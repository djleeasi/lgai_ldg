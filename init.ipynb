{
 "cells": [
  {
   "cell_type": "code",
   "execution_count": 1,
   "metadata": {},
   "outputs": [
    {
     "data": {
      "text/plain": [
       "'/workspace/lgai/lgai_ldg'"
      ]
     },
     "execution_count": 1,
     "metadata": {},
     "output_type": "execute_result"
    }
   ],
   "source": [
    "import os\n",
    "os.getcwd()\n",
    "print(\"why sue??\")"
   ]
  },
  {
   "cell_type": "code",
   "execution_count": 2,
   "metadata": {},
   "outputs": [],
   "source": [
    "from src.train import execute_train\n",
    "from src.getresult import execute_getresult"
   ]
  },
  {
   "cell_type": "code",
   "execution_count": 3,
   "metadata": {},
   "outputs": [
    {
     "name": "stdout",
     "output_type": "stream",
     "text": [
      "./parameters/LDGLSTM_4.ptdoes not exists\n",
      "[Epoch 1 / 200]\n"
     ]
    },
    {
     "name": "stderr",
     "output_type": "stream",
     "text": [
      "100%|██████████| 16/16 [00:00<00:00, 37.43it/s]\n",
      "100%|██████████| 3/3 [00:00<00:00, 43.52it/s]\n"
     ]
    },
    {
     "name": "stdout",
     "output_type": "stream",
     "text": [
      "Epoch 1\n",
      "train_loss : 1.2494858354330063, validation_loss(unnormalized): 161.32739436658372\n",
      "validation loss decreased (inf --> 161.327394).  Saving model ...\n",
      "[Epoch 2 / 200]\n"
     ]
    },
    {
     "name": "stderr",
     "output_type": "stream",
     "text": [
      "100%|██████████| 16/16 [00:00<00:00, 37.61it/s]\n",
      "100%|██████████| 3/3 [00:00<00:00, 43.12it/s]\n"
     ]
    },
    {
     "name": "stdout",
     "output_type": "stream",
     "text": [
      "Epoch 2\n",
      "train_loss : 1.0701749362051487, validation_loss(unnormalized): 125.64824993116952\n",
      "validation loss decreased (161.327394 --> 125.648250).  Saving model ...\n",
      "[Epoch 3 / 200]\n"
     ]
    },
    {
     "name": "stderr",
     "output_type": "stream",
     "text": [
      "100%|██████████| 16/16 [00:00<00:00, 37.59it/s]\n",
      "100%|██████████| 3/3 [00:00<00:00, 43.02it/s]\n"
     ]
    },
    {
     "name": "stdout",
     "output_type": "stream",
     "text": [
      "Epoch 3\n",
      "train_loss : 0.9070417247712612, validation_loss(unnormalized): 75.08850195374112\n",
      "validation loss decreased (125.648250 --> 75.088502).  Saving model ...\n",
      "[Epoch 4 / 200]\n"
     ]
    },
    {
     "name": "stderr",
     "output_type": "stream",
     "text": [
      "100%|██████████| 16/16 [00:00<00:00, 37.59it/s]\n",
      "100%|██████████| 3/3 [00:00<00:00, 42.96it/s]\n"
     ]
    },
    {
     "name": "stdout",
     "output_type": "stream",
     "text": [
      "Epoch 4\n",
      "train_loss : 0.7674476951360703, validation_loss(unnormalized): 381.11746349772585\n",
      "[Epoch 5 / 200]\n"
     ]
    },
    {
     "name": "stderr",
     "output_type": "stream",
     "text": [
      "100%|██████████| 16/16 [00:00<00:00, 37.65it/s]\n",
      "100%|██████████| 3/3 [00:00<00:00, 42.78it/s]\n"
     ]
    },
    {
     "name": "stdout",
     "output_type": "stream",
     "text": [
      "Epoch 5\n",
      "train_loss : 0.6472552753984928, validation_loss(unnormalized): 323.3566031509284\n",
      "[Epoch 6 / 200]\n"
     ]
    },
    {
     "name": "stderr",
     "output_type": "stream",
     "text": [
      "100%|██████████| 16/16 [00:00<00:00, 37.53it/s]\n",
      "100%|██████████| 3/3 [00:00<00:00, 42.65it/s]\n"
     ]
    },
    {
     "name": "stdout",
     "output_type": "stream",
     "text": [
      "Epoch 6\n",
      "train_loss : 0.5439660958945751, validation_loss(unnormalized): 251.53019745441648\n",
      "[Epoch 7 / 200]\n"
     ]
    },
    {
     "name": "stderr",
     "output_type": "stream",
     "text": [
      "100%|██████████| 16/16 [00:00<00:00, 37.45it/s]\n",
      "100%|██████████| 3/3 [00:00<00:00, 27.09it/s]\n"
     ]
    },
    {
     "name": "stdout",
     "output_type": "stream",
     "text": [
      "Epoch 7\n",
      "train_loss : 0.4554582256823778, validation_loss(unnormalized): 226.130142066174\n",
      "[Epoch 8 / 200]\n"
     ]
    },
    {
     "name": "stderr",
     "output_type": "stream",
     "text": [
      "100%|██████████| 16/16 [00:00<00:00, 37.46it/s]\n",
      "100%|██████████| 3/3 [00:00<00:00, 42.26it/s]\n"
     ]
    },
    {
     "name": "stdout",
     "output_type": "stream",
     "text": [
      "Epoch 8\n",
      "train_loss : 0.3805157449096441, validation_loss(unnormalized): 208.88710287676327\n",
      "[Epoch 9 / 200]\n"
     ]
    },
    {
     "name": "stderr",
     "output_type": "stream",
     "text": [
      "100%|██████████| 16/16 [00:00<00:00, 37.38it/s]\n",
      "100%|██████████| 3/3 [00:00<00:00, 43.03it/s]\n"
     ]
    },
    {
     "name": "stdout",
     "output_type": "stream",
     "text": [
      "Epoch 9\n",
      "train_loss : 0.31602778658270836, validation_loss(unnormalized): 208.87733899913027\n",
      "[Epoch 10 / 200]\n"
     ]
    },
    {
     "name": "stderr",
     "output_type": "stream",
     "text": [
      "100%|██████████| 16/16 [00:00<00:00, 37.76it/s]\n",
      "100%|██████████| 3/3 [00:00<00:00, 43.14it/s]\n"
     ]
    },
    {
     "name": "stdout",
     "output_type": "stream",
     "text": [
      "Epoch 10\n",
      "train_loss : 0.26131962798535824, validation_loss(unnormalized): 170.093916796593\n",
      "[Epoch 11 / 200]\n"
     ]
    },
    {
     "name": "stderr",
     "output_type": "stream",
     "text": [
      "100%|██████████| 16/16 [00:00<00:00, 37.67it/s]\n",
      "100%|██████████| 3/3 [00:00<00:00, 42.55it/s]\n"
     ]
    },
    {
     "name": "stdout",
     "output_type": "stream",
     "text": [
      "Epoch 11\n",
      "train_loss : 0.21548882219940424, validation_loss(unnormalized): 140.39106981741836\n",
      "[Epoch 12 / 200]\n"
     ]
    },
    {
     "name": "stderr",
     "output_type": "stream",
     "text": [
      "100%|██████████| 16/16 [00:00<00:00, 37.64it/s]\n",
      "100%|██████████| 3/3 [00:00<00:00, 42.14it/s]\n"
     ]
    },
    {
     "name": "stdout",
     "output_type": "stream",
     "text": [
      "Epoch 12\n",
      "train_loss : 0.1773430686444044, validation_loss(unnormalized): 111.69802021083915\n",
      "[Epoch 13 / 200]\n"
     ]
    },
    {
     "name": "stderr",
     "output_type": "stream",
     "text": [
      "100%|██████████| 16/16 [00:00<00:00, 37.53it/s]\n",
      "100%|██████████| 3/3 [00:00<00:00, 42.74it/s]\n"
     ]
    },
    {
     "name": "stdout",
     "output_type": "stream",
     "text": [
      "Epoch 13\n",
      "train_loss : 0.14512247685343027, validation_loss(unnormalized): 107.95476734413562\n",
      "[Epoch 14 / 200]\n"
     ]
    },
    {
     "name": "stderr",
     "output_type": "stream",
     "text": [
      "100%|██████████| 16/16 [00:00<00:00, 37.43it/s]\n",
      "100%|██████████| 3/3 [00:00<00:00, 27.27it/s]\n"
     ]
    },
    {
     "name": "stdout",
     "output_type": "stream",
     "text": [
      "Epoch 14\n",
      "train_loss : 0.11868387833237648, validation_loss(unnormalized): 105.02663404094483\n",
      "[Epoch 15 / 200]\n"
     ]
    },
    {
     "name": "stderr",
     "output_type": "stream",
     "text": [
      "100%|██████████| 16/16 [00:00<00:00, 37.59it/s]\n",
      "100%|██████████| 3/3 [00:00<00:00, 42.59it/s]\n"
     ]
    },
    {
     "name": "stdout",
     "output_type": "stream",
     "text": [
      "Epoch 15\n",
      "train_loss : 0.09686669567599893, validation_loss(unnormalized): 73.11882856391598\n",
      "validation loss decreased (75.088502 --> 73.118829).  Saving model ...\n",
      "[Epoch 16 / 200]\n"
     ]
    },
    {
     "name": "stderr",
     "output_type": "stream",
     "text": [
      "100%|██████████| 16/16 [00:00<00:00, 37.61it/s]\n",
      "100%|██████████| 3/3 [00:00<00:00, 42.46it/s]\n"
     ]
    },
    {
     "name": "stdout",
     "output_type": "stream",
     "text": [
      "Epoch 16\n",
      "train_loss : 0.07900743884965777, validation_loss(unnormalized): 96.57742223905665\n",
      "[Epoch 17 / 200]\n"
     ]
    },
    {
     "name": "stderr",
     "output_type": "stream",
     "text": [
      "100%|██████████| 16/16 [00:00<00:00, 37.53it/s]\n",
      "100%|██████████| 3/3 [00:00<00:00, 42.80it/s]\n"
     ]
    },
    {
     "name": "stdout",
     "output_type": "stream",
     "text": [
      "Epoch 17\n",
      "train_loss : 0.06429680436849594, validation_loss(unnormalized): 58.106266542291074\n",
      "validation loss decreased (73.118829 --> 58.106267).  Saving model ...\n",
      "[Epoch 18 / 200]\n"
     ]
    },
    {
     "name": "stderr",
     "output_type": "stream",
     "text": [
      "100%|██████████| 16/16 [00:00<00:00, 37.47it/s]\n",
      "100%|██████████| 3/3 [00:00<00:00, 42.87it/s]\n"
     ]
    },
    {
     "name": "stdout",
     "output_type": "stream",
     "text": [
      "Epoch 18\n",
      "train_loss : 0.052553171990439296, validation_loss(unnormalized): 62.87253154210456\n",
      "[Epoch 19 / 200]\n"
     ]
    },
    {
     "name": "stderr",
     "output_type": "stream",
     "text": [
      "100%|██████████| 16/16 [00:00<00:00, 37.39it/s]\n",
      "100%|██████████| 3/3 [00:00<00:00, 27.48it/s]\n"
     ]
    },
    {
     "name": "stdout",
     "output_type": "stream",
     "text": [
      "Epoch 19\n",
      "train_loss : 0.0430690567009151, validation_loss(unnormalized): 42.07938009858807\n",
      "validation loss decreased (58.106267 --> 42.079380).  Saving model ...\n",
      "[Epoch 20 / 200]\n"
     ]
    },
    {
     "name": "stderr",
     "output_type": "stream",
     "text": [
      "100%|██████████| 16/16 [00:00<00:00, 41.51it/s]\n",
      "100%|██████████| 3/3 [00:00<00:00, 26.09it/s]\n"
     ]
    },
    {
     "name": "stdout",
     "output_type": "stream",
     "text": [
      "Epoch 20\n",
      "train_loss : 0.03555794223211706, validation_loss(unnormalized): 33.09989001757742\n",
      "validation loss decreased (42.079380 --> 33.099890).  Saving model ...\n",
      "[Epoch 21 / 200]\n"
     ]
    },
    {
     "name": "stderr",
     "output_type": "stream",
     "text": [
      "100%|██████████| 16/16 [00:00<00:00, 37.57it/s]\n",
      "100%|██████████| 3/3 [00:00<00:00, 42.93it/s]\n"
     ]
    },
    {
     "name": "stdout",
     "output_type": "stream",
     "text": [
      "Epoch 21\n",
      "train_loss : 0.029601661139167845, validation_loss(unnormalized): 27.162262625711843\n",
      "validation loss decreased (33.099890 --> 27.162263).  Saving model ...\n",
      "[Epoch 22 / 200]\n"
     ]
    },
    {
     "name": "stderr",
     "output_type": "stream",
     "text": [
      "100%|██████████| 16/16 [00:00<00:00, 37.49it/s]\n",
      "100%|██████████| 3/3 [00:00<00:00, 42.96it/s]\n"
     ]
    },
    {
     "name": "stdout",
     "output_type": "stream",
     "text": [
      "Epoch 22\n",
      "train_loss : 0.024859423865564167, validation_loss(unnormalized): 18.50588208787694\n",
      "validation loss decreased (27.162263 --> 18.505882).  Saving model ...\n",
      "[Epoch 23 / 200]\n"
     ]
    },
    {
     "name": "stderr",
     "output_type": "stream",
     "text": [
      "100%|██████████| 16/16 [00:00<00:00, 37.53it/s]\n",
      "100%|██████████| 3/3 [00:00<00:00, 42.50it/s]\n"
     ]
    },
    {
     "name": "stdout",
     "output_type": "stream",
     "text": [
      "Epoch 23\n",
      "train_loss : 0.021287458366714418, validation_loss(unnormalized): 17.006220060727415\n",
      "validation loss decreased (18.505882 --> 17.006220).  Saving model ...\n",
      "[Epoch 24 / 200]\n"
     ]
    },
    {
     "name": "stderr",
     "output_type": "stream",
     "text": [
      "100%|██████████| 16/16 [00:00<00:00, 37.52it/s]\n",
      "100%|██████████| 3/3 [00:00<00:00, 42.43it/s]\n"
     ]
    },
    {
     "name": "stdout",
     "output_type": "stream",
     "text": [
      "Epoch 24\n",
      "train_loss : 0.018413199810311198, validation_loss(unnormalized): 11.91827151403006\n",
      "validation loss decreased (17.006220 --> 11.918272).  Saving model ...\n",
      "[Epoch 25 / 200]\n"
     ]
    },
    {
     "name": "stderr",
     "output_type": "stream",
     "text": [
      "100%|██████████| 16/16 [00:00<00:00, 37.44it/s]\n",
      "100%|██████████| 3/3 [00:00<00:00, 42.50it/s]\n"
     ]
    },
    {
     "name": "stdout",
     "output_type": "stream",
     "text": [
      "Epoch 25\n",
      "train_loss : 0.016258426185231656, validation_loss(unnormalized): 10.735976691675356\n",
      "validation loss decreased (11.918272 --> 10.735977).  Saving model ...\n",
      "[Epoch 26 / 200]\n"
     ]
    },
    {
     "name": "stderr",
     "output_type": "stream",
     "text": [
      "100%|██████████| 16/16 [00:00<00:00, 37.44it/s]\n",
      "100%|██████████| 3/3 [00:00<00:00, 27.10it/s]\n"
     ]
    },
    {
     "name": "stdout",
     "output_type": "stream",
     "text": [
      "Epoch 26\n",
      "train_loss : 0.014608699071686715, validation_loss(unnormalized): 7.697485211252601\n",
      "validation loss decreased (10.735977 --> 7.697485).  Saving model ...\n",
      "[Epoch 27 / 200]\n"
     ]
    },
    {
     "name": "stderr",
     "output_type": "stream",
     "text": [
      "100%|██████████| 16/16 [00:00<00:00, 37.52it/s]\n",
      "100%|██████████| 3/3 [00:00<00:00, 43.38it/s]\n"
     ]
    },
    {
     "name": "stdout",
     "output_type": "stream",
     "text": [
      "Epoch 27\n",
      "train_loss : 0.013405734847765416, validation_loss(unnormalized): 5.380275924236119\n",
      "validation loss decreased (7.697485 --> 5.380276).  Saving model ...\n",
      "[Epoch 28 / 200]\n"
     ]
    },
    {
     "name": "stderr",
     "output_type": "stream",
     "text": [
      "100%|██████████| 16/16 [00:00<00:00, 37.47it/s]\n",
      "100%|██████████| 3/3 [00:00<00:00, 41.43it/s]\n"
     ]
    },
    {
     "name": "stdout",
     "output_type": "stream",
     "text": [
      "Epoch 28\n",
      "train_loss : 0.012411228381097317, validation_loss(unnormalized): 4.0405961090501465\n",
      "validation loss decreased (5.380276 --> 4.040596).  Saving model ...\n",
      "[Epoch 29 / 200]\n"
     ]
    },
    {
     "name": "stderr",
     "output_type": "stream",
     "text": [
      "100%|██████████| 16/16 [00:00<00:00, 37.64it/s]\n",
      "100%|██████████| 3/3 [00:00<00:00, 43.31it/s]\n"
     ]
    },
    {
     "name": "stdout",
     "output_type": "stream",
     "text": [
      "Epoch 29\n",
      "train_loss : 0.011706168646924198, validation_loss(unnormalized): 3.612717521897553\n",
      "validation loss decreased (4.040596 --> 3.612718).  Saving model ...\n",
      "[Epoch 30 / 200]\n"
     ]
    },
    {
     "name": "stderr",
     "output_type": "stream",
     "text": [
      "100%|██████████| 16/16 [00:00<00:00, 37.63it/s]\n",
      "100%|██████████| 3/3 [00:00<00:00, 42.95it/s]\n"
     ]
    },
    {
     "name": "stdout",
     "output_type": "stream",
     "text": [
      "Epoch 30\n",
      "train_loss : 0.011249669012613595, validation_loss(unnormalized): 3.100619629690373\n",
      "validation loss decreased (3.612718 --> 3.100620).  Saving model ...\n",
      "[Epoch 31 / 200]\n"
     ]
    },
    {
     "name": "stderr",
     "output_type": "stream",
     "text": [
      "100%|██████████| 16/16 [00:00<00:00, 37.69it/s]\n",
      "100%|██████████| 3/3 [00:00<00:00, 43.29it/s]\n"
     ]
    },
    {
     "name": "stdout",
     "output_type": "stream",
     "text": [
      "Epoch 31\n",
      "train_loss : 0.010898959706537426, validation_loss(unnormalized): 2.6786707472226485\n",
      "validation loss decreased (3.100620 --> 2.678671).  Saving model ...\n",
      "[Epoch 32 / 200]\n"
     ]
    },
    {
     "name": "stderr",
     "output_type": "stream",
     "text": [
      "100%|██████████| 16/16 [00:00<00:00, 37.75it/s]\n",
      "100%|██████████| 3/3 [00:00<00:00, 42.70it/s]\n"
     ]
    },
    {
     "name": "stdout",
     "output_type": "stream",
     "text": [
      "Epoch 32\n",
      "train_loss : 0.010582018177956343, validation_loss(unnormalized): 2.2985249294589862\n",
      "validation loss decreased (2.678671 --> 2.298525).  Saving model ...\n",
      "[Epoch 33 / 200]\n"
     ]
    },
    {
     "name": "stderr",
     "output_type": "stream",
     "text": [
      "100%|██████████| 16/16 [00:00<00:00, 37.67it/s]\n",
      "100%|██████████| 3/3 [00:00<00:00, 42.63it/s]\n"
     ]
    },
    {
     "name": "stdout",
     "output_type": "stream",
     "text": [
      "Epoch 33\n",
      "train_loss : 0.010406863526441157, validation_loss(unnormalized): 2.13149564312531\n",
      "validation loss decreased (2.298525 --> 2.131496).  Saving model ...\n",
      "[Epoch 34 / 200]\n"
     ]
    },
    {
     "name": "stderr",
     "output_type": "stream",
     "text": [
      "100%|██████████| 16/16 [00:00<00:00, 37.59it/s]\n",
      "100%|██████████| 3/3 [00:00<00:00, 43.27it/s]\n"
     ]
    },
    {
     "name": "stdout",
     "output_type": "stream",
     "text": [
      "Epoch 34\n",
      "train_loss : 0.010297439934220165, validation_loss(unnormalized): 1.973294244684628\n",
      "validation loss decreased (2.131496 --> 1.973294).  Saving model ...\n",
      "[Epoch 35 / 200]\n"
     ]
    },
    {
     "name": "stderr",
     "output_type": "stream",
     "text": [
      "100%|██████████| 16/16 [00:00<00:00, 37.52it/s]\n",
      "100%|██████████| 3/3 [00:00<00:00, 27.09it/s]\n"
     ]
    },
    {
     "name": "stdout",
     "output_type": "stream",
     "text": [
      "Epoch 35\n",
      "train_loss : 0.010150427813641727, validation_loss(unnormalized): 1.9063694407899774\n",
      "validation loss decreased (1.973294 --> 1.906369).  Saving model ...\n",
      "[Epoch 36 / 200]\n"
     ]
    },
    {
     "name": "stderr",
     "output_type": "stream",
     "text": [
      "100%|██████████| 16/16 [00:00<00:00, 39.51it/s]\n",
      "100%|██████████| 3/3 [00:00<00:00, 27.04it/s]\n"
     ]
    },
    {
     "name": "stdout",
     "output_type": "stream",
     "text": [
      "Epoch 36\n",
      "train_loss : 0.010108553746249527, validation_loss(unnormalized): 1.8260701550191147\n",
      "validation loss decreased (1.906369 --> 1.826070).  Saving model ...\n",
      "[Epoch 37 / 200]\n"
     ]
    },
    {
     "name": "stderr",
     "output_type": "stream",
     "text": [
      "100%|██████████| 16/16 [00:00<00:00, 37.34it/s]\n",
      "100%|██████████| 3/3 [00:00<00:00, 43.27it/s]\n"
     ]
    },
    {
     "name": "stdout",
     "output_type": "stream",
     "text": [
      "Epoch 37\n",
      "train_loss : 0.010043852031230927, validation_loss(unnormalized): 1.820943224539695\n",
      "validation loss decreased (1.826070 --> 1.820943).  Saving model ...\n",
      "[Epoch 38 / 200]\n"
     ]
    },
    {
     "name": "stderr",
     "output_type": "stream",
     "text": [
      "100%|██████████| 16/16 [00:00<00:00, 37.44it/s]\n",
      "100%|██████████| 3/3 [00:00<00:00, 43.68it/s]\n"
     ]
    },
    {
     "name": "stdout",
     "output_type": "stream",
     "text": [
      "Epoch 38\n",
      "train_loss : 0.010008423239924014, validation_loss(unnormalized): 1.7268774851607729\n",
      "validation loss decreased (1.820943 --> 1.726877).  Saving model ...\n",
      "[Epoch 39 / 200]\n"
     ]
    },
    {
     "name": "stderr",
     "output_type": "stream",
     "text": [
      "100%|██████████| 16/16 [00:00<00:00, 37.61it/s]\n",
      "100%|██████████| 3/3 [00:00<00:00, 42.97it/s]\n"
     ]
    },
    {
     "name": "stdout",
     "output_type": "stream",
     "text": [
      "Epoch 39\n",
      "train_loss : 0.009986269229557365, validation_loss(unnormalized): 1.7132502305609545\n",
      "validation loss decreased (1.726877 --> 1.713250).  Saving model ...\n",
      "[Epoch 40 / 200]\n"
     ]
    },
    {
     "name": "stderr",
     "output_type": "stream",
     "text": [
      "100%|██████████| 16/16 [00:00<00:00, 37.12it/s]\n",
      "100%|██████████| 3/3 [00:00<00:00, 43.22it/s]\n"
     ]
    },
    {
     "name": "stdout",
     "output_type": "stream",
     "text": [
      "Epoch 40\n",
      "train_loss : 0.010004601965192705, validation_loss(unnormalized): 1.7113375684658907\n",
      "validation loss decreased (1.713250 --> 1.711338).  Saving model ...\n",
      "[Epoch 41 / 200]\n"
     ]
    },
    {
     "name": "stderr",
     "output_type": "stream",
     "text": [
      "100%|██████████| 16/16 [00:00<00:00, 37.31it/s]\n",
      "100%|██████████| 3/3 [00:00<00:00, 42.66it/s]\n"
     ]
    },
    {
     "name": "stdout",
     "output_type": "stream",
     "text": [
      "Epoch 41\n",
      "train_loss : 0.009976488538086414, validation_loss(unnormalized): 1.701549332749222\n",
      "validation loss decreased (1.711338 --> 1.701549).  Saving model ...\n",
      "[Epoch 42 / 200]\n"
     ]
    },
    {
     "name": "stderr",
     "output_type": "stream",
     "text": [
      "100%|██████████| 16/16 [00:00<00:00, 37.41it/s]\n",
      "100%|██████████| 3/3 [00:00<00:00, 27.20it/s]\n"
     ]
    },
    {
     "name": "stdout",
     "output_type": "stream",
     "text": [
      "Epoch 42\n",
      "train_loss : 0.009958299051504582, validation_loss(unnormalized): 1.6499605867307896\n",
      "validation loss decreased (1.701549 --> 1.649961).  Saving model ...\n",
      "[Epoch 43 / 200]\n"
     ]
    },
    {
     "name": "stderr",
     "output_type": "stream",
     "text": [
      "100%|██████████| 16/16 [00:00<00:00, 37.49it/s]\n",
      "100%|██████████| 3/3 [00:00<00:00, 43.65it/s]\n"
     ]
    },
    {
     "name": "stdout",
     "output_type": "stream",
     "text": [
      "Epoch 43\n",
      "train_loss : 0.00996900798054412, validation_loss(unnormalized): 1.6608454667988897\n",
      "[Epoch 44 / 200]\n"
     ]
    },
    {
     "name": "stderr",
     "output_type": "stream",
     "text": [
      "100%|██████████| 16/16 [00:00<00:00, 37.35it/s]\n",
      "100%|██████████| 3/3 [00:00<00:00, 43.25it/s]\n"
     ]
    },
    {
     "name": "stdout",
     "output_type": "stream",
     "text": [
      "Epoch 44\n",
      "train_loss : 0.009965444391127676, validation_loss(unnormalized): 1.6755123567060464\n",
      "[Epoch 45 / 200]\n"
     ]
    },
    {
     "name": "stderr",
     "output_type": "stream",
     "text": [
      "100%|██████████| 16/16 [00:00<00:00, 37.59it/s]\n",
      "100%|██████████| 3/3 [00:00<00:00, 42.90it/s]\n"
     ]
    },
    {
     "name": "stdout",
     "output_type": "stream",
     "text": [
      "Epoch 45\n",
      "train_loss : 0.009966075129341334, validation_loss(unnormalized): 1.685860870563073\n",
      "[Epoch 46 / 200]\n"
     ]
    },
    {
     "name": "stderr",
     "output_type": "stream",
     "text": [
      "100%|██████████| 16/16 [00:00<00:00, 37.23it/s]\n",
      "100%|██████████| 3/3 [00:00<00:00, 43.26it/s]\n"
     ]
    },
    {
     "name": "stdout",
     "output_type": "stream",
     "text": [
      "Epoch 46\n",
      "train_loss : 0.009969852806534618, validation_loss(unnormalized): 1.6765786029890917\n",
      "[Epoch 47 / 200]\n"
     ]
    },
    {
     "name": "stderr",
     "output_type": "stream",
     "text": [
      "100%|██████████| 16/16 [00:00<00:00, 37.58it/s]\n",
      "100%|██████████| 3/3 [00:00<00:00, 27.21it/s]\n"
     ]
    },
    {
     "name": "stdout",
     "output_type": "stream",
     "text": [
      "Epoch 47\n",
      "train_loss : 0.009958615119103342, validation_loss(unnormalized): 1.6717702014869973\n",
      "[Epoch 48 / 200]\n"
     ]
    },
    {
     "name": "stderr",
     "output_type": "stream",
     "text": [
      "100%|██████████| 16/16 [00:00<00:00, 41.49it/s]\n",
      "100%|██████████| 3/3 [00:00<00:00, 42.94it/s]\n"
     ]
    },
    {
     "name": "stdout",
     "output_type": "stream",
     "text": [
      "Epoch 48\n",
      "train_loss : 0.009962572483345866, validation_loss(unnormalized): 1.663403238395367\n",
      "[Epoch 49 / 200]\n"
     ]
    },
    {
     "name": "stderr",
     "output_type": "stream",
     "text": [
      "100%|██████████| 16/16 [00:00<00:00, 37.57it/s]\n",
      "100%|██████████| 3/3 [00:00<00:00, 43.47it/s]\n"
     ]
    },
    {
     "name": "stdout",
     "output_type": "stream",
     "text": [
      "Epoch 49\n",
      "train_loss : 0.009922115656081587, validation_loss(unnormalized): 1.66072297599969\n",
      "[Epoch 50 / 200]\n"
     ]
    },
    {
     "name": "stderr",
     "output_type": "stream",
     "text": [
      "100%|██████████| 16/16 [00:00<00:00, 37.50it/s]\n",
      "100%|██████████| 3/3 [00:00<00:00, 26.88it/s]\n"
     ]
    },
    {
     "name": "stdout",
     "output_type": "stream",
     "text": [
      "Epoch 50\n",
      "train_loss : 0.00997396546881646, validation_loss(unnormalized): 1.6777467199988914\n",
      "[Epoch 51 / 200]\n"
     ]
    },
    {
     "name": "stderr",
     "output_type": "stream",
     "text": [
      "100%|██████████| 16/16 [00:00<00:00, 37.45it/s]\n",
      "100%|██████████| 3/3 [00:00<00:00, 43.37it/s]\n"
     ]
    },
    {
     "name": "stdout",
     "output_type": "stream",
     "text": [
      "Epoch 51\n",
      "train_loss : 0.009972026047762483, validation_loss(unnormalized): 1.6539801347838645\n",
      "[Epoch 52 / 200]\n"
     ]
    },
    {
     "name": "stderr",
     "output_type": "stream",
     "text": [
      "100%|██████████| 16/16 [00:00<00:00, 37.46it/s]\n",
      "100%|██████████| 3/3 [00:00<00:00, 43.18it/s]\n"
     ]
    },
    {
     "name": "stdout",
     "output_type": "stream",
     "text": [
      "Epoch 52\n",
      "train_loss : 0.009965130069758743, validation_loss(unnormalized): 1.6646805812447816\n",
      "[Epoch 53 / 200]\n"
     ]
    },
    {
     "name": "stderr",
     "output_type": "stream",
     "text": [
      "100%|██████████| 16/16 [00:00<00:00, 37.43it/s]\n",
      "100%|██████████| 3/3 [00:00<00:00, 43.00it/s]\n"
     ]
    },
    {
     "name": "stdout",
     "output_type": "stream",
     "text": [
      "Epoch 53\n",
      "train_loss : 0.009950634906999767, validation_loss(unnormalized): 1.660440951556556\n",
      "[Epoch 54 / 200]\n"
     ]
    },
    {
     "name": "stderr",
     "output_type": "stream",
     "text": [
      "100%|██████████| 16/16 [00:00<00:00, 37.50it/s]\n",
      "100%|██████████| 3/3 [00:00<00:00, 43.07it/s]\n"
     ]
    },
    {
     "name": "stdout",
     "output_type": "stream",
     "text": [
      "Epoch 54\n",
      "train_loss : 0.009969276725314558, validation_loss(unnormalized): 1.6701875600758285\n",
      "[Epoch 55 / 200]\n"
     ]
    },
    {
     "name": "stderr",
     "output_type": "stream",
     "text": [
      "100%|██████████| 16/16 [00:00<00:00, 37.68it/s]\n",
      "100%|██████████| 3/3 [00:00<00:00, 27.12it/s]\n"
     ]
    },
    {
     "name": "stdout",
     "output_type": "stream",
     "text": [
      "Epoch 55\n",
      "train_loss : 0.00994345941580832, validation_loss(unnormalized): 1.6609555324573373\n",
      "[Epoch 56 / 200]\n"
     ]
    },
    {
     "name": "stderr",
     "output_type": "stream",
     "text": [
      "100%|██████████| 16/16 [00:00<00:00, 37.52it/s]\n",
      "100%|██████████| 3/3 [00:00<00:00, 42.62it/s]\n"
     ]
    },
    {
     "name": "stdout",
     "output_type": "stream",
     "text": [
      "Epoch 56\n",
      "train_loss : 0.0099703767336905, validation_loss(unnormalized): 1.6505269221009333\n",
      "[Epoch 57 / 200]\n"
     ]
    },
    {
     "name": "stderr",
     "output_type": "stream",
     "text": [
      "100%|██████████| 16/16 [00:00<00:00, 37.53it/s]\n",
      "100%|██████████| 3/3 [00:00<00:00, 43.00it/s]\n"
     ]
    },
    {
     "name": "stdout",
     "output_type": "stream",
     "text": [
      "Epoch 57\n",
      "train_loss : 0.009951516927685589, validation_loss(unnormalized): 1.6380466649521128\n",
      "validation loss decreased (1.649961 --> 1.638047).  Saving model ...\n",
      "[Epoch 58 / 200]\n"
     ]
    },
    {
     "name": "stderr",
     "output_type": "stream",
     "text": [
      "100%|██████████| 16/16 [00:00<00:00, 37.54it/s]\n",
      "100%|██████████| 3/3 [00:00<00:00, 42.99it/s]\n"
     ]
    },
    {
     "name": "stdout",
     "output_type": "stream",
     "text": [
      "Epoch 58\n",
      "train_loss : 0.009957696544006467, validation_loss(unnormalized): 1.6319989053471178\n",
      "validation loss decreased (1.638047 --> 1.631999).  Saving model ...\n",
      "[Epoch 59 / 200]\n"
     ]
    },
    {
     "name": "stderr",
     "output_type": "stream",
     "text": [
      "100%|██████████| 16/16 [00:00<00:00, 37.42it/s]\n",
      "100%|██████████| 3/3 [00:00<00:00, 43.26it/s]\n"
     ]
    },
    {
     "name": "stdout",
     "output_type": "stream",
     "text": [
      "Epoch 59\n",
      "train_loss : 0.00994833855656907, validation_loss(unnormalized): 1.6714236762452155\n",
      "[Epoch 60 / 200]\n"
     ]
    },
    {
     "name": "stderr",
     "output_type": "stream",
     "text": [
      "100%|██████████| 16/16 [00:00<00:00, 37.27it/s]\n",
      "100%|██████████| 3/3 [00:00<00:00, 27.12it/s]\n"
     ]
    },
    {
     "name": "stdout",
     "output_type": "stream",
     "text": [
      "Epoch 60\n",
      "train_loss : 0.009934082452673465, validation_loss(unnormalized): 1.6562034883963186\n",
      "[Epoch 61 / 200]\n"
     ]
    },
    {
     "name": "stderr",
     "output_type": "stream",
     "text": [
      "100%|██████████| 16/16 [00:00<00:00, 37.32it/s]\n",
      "100%|██████████| 3/3 [00:00<00:00, 43.38it/s]\n"
     ]
    },
    {
     "name": "stdout",
     "output_type": "stream",
     "text": [
      "Epoch 61\n",
      "train_loss : 0.00995030504418537, validation_loss(unnormalized): 1.6511159876079313\n",
      "[Epoch 62 / 200]\n"
     ]
    },
    {
     "name": "stderr",
     "output_type": "stream",
     "text": [
      "100%|██████████| 16/16 [00:00<00:00, 37.56it/s]\n",
      "100%|██████████| 3/3 [00:00<00:00, 42.84it/s]\n"
     ]
    },
    {
     "name": "stdout",
     "output_type": "stream",
     "text": [
      "Epoch 62\n",
      "train_loss : 0.009948526858352125, validation_loss(unnormalized): 1.6622380377139754\n",
      "[Epoch 63 / 200]\n"
     ]
    },
    {
     "name": "stderr",
     "output_type": "stream",
     "text": [
      "100%|██████████| 16/16 [00:00<00:00, 37.62it/s]\n",
      "100%|██████████| 3/3 [00:00<00:00, 43.45it/s]\n"
     ]
    },
    {
     "name": "stdout",
     "output_type": "stream",
     "text": [
      "Epoch 63\n",
      "train_loss : 0.00995357520878315, validation_loss(unnormalized): 1.668956648638199\n",
      "[Epoch 64 / 200]\n"
     ]
    },
    {
     "name": "stderr",
     "output_type": "stream",
     "text": [
      "100%|██████████| 16/16 [00:00<00:00, 37.54it/s]\n",
      "100%|██████████| 3/3 [00:00<00:00, 42.68it/s]\n"
     ]
    },
    {
     "name": "stdout",
     "output_type": "stream",
     "text": [
      "Epoch 64\n",
      "train_loss : 0.00995381484972313, validation_loss(unnormalized): 1.657225299063823\n",
      "[Epoch 65 / 200]\n"
     ]
    },
    {
     "name": "stderr",
     "output_type": "stream",
     "text": [
      "100%|██████████| 16/16 [00:00<00:00, 37.56it/s]\n",
      "100%|██████████| 3/3 [00:00<00:00, 42.44it/s]\n"
     ]
    },
    {
     "name": "stdout",
     "output_type": "stream",
     "text": [
      "Epoch 65\n",
      "train_loss : 0.009935645968653262, validation_loss(unnormalized): 1.666595011634369\n",
      "[Epoch 66 / 200]\n"
     ]
    },
    {
     "name": "stderr",
     "output_type": "stream",
     "text": [
      "100%|██████████| 16/16 [00:00<00:00, 37.20it/s]\n",
      "100%|██████████| 3/3 [00:00<00:00, 43.12it/s]\n"
     ]
    },
    {
     "name": "stdout",
     "output_type": "stream",
     "text": [
      "Epoch 66\n",
      "train_loss : 0.009959534741938114, validation_loss(unnormalized): 1.6657107302971774\n",
      "[Epoch 67 / 200]\n"
     ]
    },
    {
     "name": "stderr",
     "output_type": "stream",
     "text": [
      "100%|██████████| 16/16 [00:00<00:00, 37.58it/s]\n",
      "100%|██████████| 3/3 [00:00<00:00, 27.53it/s]\n"
     ]
    },
    {
     "name": "stdout",
     "output_type": "stream",
     "text": [
      "Epoch 67\n",
      "train_loss : 0.009939918469171971, validation_loss(unnormalized): 1.6704433469000328\n",
      "[Epoch 68 / 200]\n"
     ]
    },
    {
     "name": "stderr",
     "output_type": "stream",
     "text": [
      "100%|██████████| 16/16 [00:00<00:00, 37.33it/s]\n",
      "100%|██████████| 3/3 [00:00<00:00, 42.82it/s]\n"
     ]
    },
    {
     "name": "stdout",
     "output_type": "stream",
     "text": [
      "Epoch 68\n",
      "train_loss : 0.009946561069227755, validation_loss(unnormalized): 1.6751807705175512\n",
      "[Epoch 69 / 200]\n"
     ]
    },
    {
     "name": "stderr",
     "output_type": "stream",
     "text": [
      "100%|██████████| 16/16 [00:00<00:00, 37.63it/s]\n",
      "100%|██████████| 3/3 [00:00<00:00, 43.41it/s]\n"
     ]
    },
    {
     "name": "stdout",
     "output_type": "stream",
     "text": [
      "Epoch 69\n",
      "train_loss : 0.00997010333230719, validation_loss(unnormalized): 1.6418016231455983\n",
      "[Epoch 70 / 200]\n"
     ]
    },
    {
     "name": "stderr",
     "output_type": "stream",
     "text": [
      "100%|██████████| 16/16 [00:00<00:00, 37.53it/s]\n",
      "100%|██████████| 3/3 [00:00<00:00, 43.32it/s]\n"
     ]
    },
    {
     "name": "stdout",
     "output_type": "stream",
     "text": [
      "Epoch 70\n",
      "train_loss : 0.00998845393769443, validation_loss(unnormalized): 1.6718958002460804\n",
      "[Epoch 71 / 200]\n"
     ]
    },
    {
     "name": "stderr",
     "output_type": "stream",
     "text": [
      "100%|██████████| 16/16 [00:00<00:00, 37.51it/s]\n",
      "100%|██████████| 3/3 [00:00<00:00, 42.72it/s]\n"
     ]
    },
    {
     "name": "stdout",
     "output_type": "stream",
     "text": [
      "Epoch 71\n",
      "train_loss : 0.009962369978893548, validation_loss(unnormalized): 1.6468584125931374\n",
      "[Epoch 72 / 200]\n"
     ]
    },
    {
     "name": "stderr",
     "output_type": "stream",
     "text": [
      "100%|██████████| 16/16 [00:00<00:00, 37.37it/s]\n",
      "100%|██████████| 3/3 [00:00<00:00, 43.29it/s]\n"
     ]
    },
    {
     "name": "stdout",
     "output_type": "stream",
     "text": [
      "Epoch 72\n",
      "train_loss : 0.009976375848054886, validation_loss(unnormalized): 1.6615799169454732\n",
      "[Epoch 73 / 200]\n"
     ]
    },
    {
     "name": "stderr",
     "output_type": "stream",
     "text": [
      "100%|██████████| 16/16 [00:00<00:00, 37.48it/s]\n",
      "100%|██████████| 3/3 [00:00<00:00, 43.17it/s]\n"
     ]
    },
    {
     "name": "stdout",
     "output_type": "stream",
     "text": [
      "Epoch 73\n",
      "train_loss : 0.00995110860094428, validation_loss(unnormalized): 1.6590017534152104\n",
      "[Epoch 74 / 200]\n"
     ]
    },
    {
     "name": "stderr",
     "output_type": "stream",
     "text": [
      "100%|██████████| 16/16 [00:00<00:00, 37.48it/s]\n",
      "100%|██████████| 3/3 [00:00<00:00, 27.00it/s]\n"
     ]
    },
    {
     "name": "stdout",
     "output_type": "stream",
     "text": [
      "Epoch 74\n",
      "train_loss : 0.009927330538630486, validation_loss(unnormalized): 1.6454962523385384\n",
      "[Epoch 75 / 200]\n"
     ]
    },
    {
     "name": "stderr",
     "output_type": "stream",
     "text": [
      "100%|██████████| 16/16 [00:00<00:00, 41.55it/s]\n",
      "100%|██████████| 3/3 [00:00<00:00, 26.98it/s]\n"
     ]
    },
    {
     "name": "stdout",
     "output_type": "stream",
     "text": [
      "Epoch 75\n",
      "train_loss : 0.00995627004886046, validation_loss(unnormalized): 1.673797500868296\n",
      "[Epoch 76 / 200]\n"
     ]
    },
    {
     "name": "stderr",
     "output_type": "stream",
     "text": [
      "100%|██████████| 16/16 [00:00<00:00, 41.34it/s]\n",
      "100%|██████████| 3/3 [00:00<00:00, 26.92it/s]\n"
     ]
    },
    {
     "name": "stdout",
     "output_type": "stream",
     "text": [
      "Epoch 76\n",
      "train_loss : 0.009962277894373983, validation_loss(unnormalized): 1.6458306043400857\n",
      "[Epoch 77 / 200]\n"
     ]
    },
    {
     "name": "stderr",
     "output_type": "stream",
     "text": [
      "100%|██████████| 16/16 [00:00<00:00, 37.42it/s]\n",
      "100%|██████████| 3/3 [00:00<00:00, 43.12it/s]\n"
     ]
    },
    {
     "name": "stdout",
     "output_type": "stream",
     "text": [
      "Epoch 77\n",
      "train_loss : 0.009926372556947172, validation_loss(unnormalized): 1.6381318430430991\n",
      "[Epoch 78 / 200]\n"
     ]
    },
    {
     "name": "stderr",
     "output_type": "stream",
     "text": [
      "100%|██████████| 16/16 [00:00<00:00, 37.48it/s]\n",
      "100%|██████████| 3/3 [00:00<00:00, 42.98it/s]\n"
     ]
    },
    {
     "name": "stdout",
     "output_type": "stream",
     "text": [
      "Epoch 78\n",
      "train_loss : 0.009946296457201242, validation_loss(unnormalized): 1.6703149478446964\n",
      "[Epoch 79 / 200]\n"
     ]
    },
    {
     "name": "stderr",
     "output_type": "stream",
     "text": [
      "100%|██████████| 16/16 [00:00<00:00, 37.53it/s]\n",
      "100%|██████████| 3/3 [00:00<00:00, 43.26it/s]\n"
     ]
    },
    {
     "name": "stdout",
     "output_type": "stream",
     "text": [
      "Epoch 79\n",
      "train_loss : 0.009958363778423518, validation_loss(unnormalized): 1.6764346421005734\n",
      "[Epoch 80 / 200]\n"
     ]
    },
    {
     "name": "stderr",
     "output_type": "stream",
     "text": [
      "100%|██████████| 16/16 [00:00<00:00, 37.43it/s]\n",
      "100%|██████████| 3/3 [00:00<00:00, 43.21it/s]\n"
     ]
    },
    {
     "name": "stdout",
     "output_type": "stream",
     "text": [
      "Epoch 80\n",
      "train_loss : 0.009938270784914494, validation_loss(unnormalized): 1.6793541878295777\n",
      "[Epoch 81 / 200]\n"
     ]
    },
    {
     "name": "stderr",
     "output_type": "stream",
     "text": [
      "100%|██████████| 16/16 [00:00<00:00, 37.44it/s]\n",
      "100%|██████████| 3/3 [00:00<00:00, 26.96it/s]\n"
     ]
    },
    {
     "name": "stdout",
     "output_type": "stream",
     "text": [
      "Epoch 81\n",
      "train_loss : 0.009990210353862494, validation_loss(unnormalized): 1.676635242034825\n",
      "[Epoch 82 / 200]\n"
     ]
    },
    {
     "name": "stderr",
     "output_type": "stream",
     "text": [
      "100%|██████████| 16/16 [00:00<00:00, 41.43it/s]\n",
      "100%|██████████| 3/3 [00:00<00:00, 27.20it/s]\n"
     ]
    },
    {
     "name": "stdout",
     "output_type": "stream",
     "text": [
      "Epoch 82\n",
      "train_loss : 0.009939615614712238, validation_loss(unnormalized): 1.6334405710478725\n",
      "[Epoch 83 / 200]\n"
     ]
    },
    {
     "name": "stderr",
     "output_type": "stream",
     "text": [
      "100%|██████████| 16/16 [00:00<00:00, 41.64it/s]\n",
      "100%|██████████| 3/3 [00:00<00:00, 43.35it/s]\n"
     ]
    },
    {
     "name": "stdout",
     "output_type": "stream",
     "text": [
      "Epoch 83\n",
      "train_loss : 0.009934804926160723, validation_loss(unnormalized): 1.6634446546252646\n",
      "[Epoch 84 / 200]\n"
     ]
    },
    {
     "name": "stderr",
     "output_type": "stream",
     "text": [
      "100%|██████████| 16/16 [00:00<00:00, 37.48it/s]\n",
      "100%|██████████| 3/3 [00:00<00:00, 43.25it/s]\n"
     ]
    },
    {
     "name": "stdout",
     "output_type": "stream",
     "text": [
      "Epoch 84\n",
      "train_loss : 0.009945631143637002, validation_loss(unnormalized): 1.67231743380112\n",
      "[Epoch 85 / 200]\n"
     ]
    },
    {
     "name": "stderr",
     "output_type": "stream",
     "text": [
      "100%|██████████| 16/16 [00:00<00:00, 37.51it/s]\n",
      "100%|██████████| 3/3 [00:00<00:00, 27.05it/s]\n"
     ]
    },
    {
     "name": "stdout",
     "output_type": "stream",
     "text": [
      "Epoch 85\n",
      "train_loss : 0.009959084331057966, validation_loss(unnormalized): 1.689188132556085\n",
      "[Epoch 86 / 200]\n"
     ]
    },
    {
     "name": "stderr",
     "output_type": "stream",
     "text": [
      "100%|██████████| 16/16 [00:00<00:00, 37.42it/s]\n",
      "100%|██████████| 3/3 [00:00<00:00, 43.16it/s]\n"
     ]
    },
    {
     "name": "stdout",
     "output_type": "stream",
     "text": [
      "Epoch 86\n",
      "train_loss : 0.009952199412509799, validation_loss(unnormalized): 1.6431507113268442\n",
      "[Epoch 87 / 200]\n"
     ]
    },
    {
     "name": "stderr",
     "output_type": "stream",
     "text": [
      "100%|██████████| 16/16 [00:00<00:00, 37.50it/s]\n",
      "100%|██████████| 3/3 [00:00<00:00, 43.31it/s]\n"
     ]
    },
    {
     "name": "stdout",
     "output_type": "stream",
     "text": [
      "Epoch 87\n",
      "train_loss : 0.009960669442079961, validation_loss(unnormalized): 1.6717444874566076\n",
      "[Epoch 88 / 200]\n"
     ]
    },
    {
     "name": "stderr",
     "output_type": "stream",
     "text": [
      "100%|██████████| 16/16 [00:00<00:00, 37.30it/s]\n",
      "100%|██████████| 3/3 [00:00<00:00, 42.86it/s]\n"
     ]
    },
    {
     "name": "stdout",
     "output_type": "stream",
     "text": [
      "Epoch 88\n",
      "train_loss : 0.009930146334227175, validation_loss(unnormalized): 1.6611662237396023\n",
      "[Epoch 89 / 200]\n"
     ]
    },
    {
     "name": "stderr",
     "output_type": "stream",
     "text": [
      "100%|██████████| 16/16 [00:00<00:00, 37.50it/s]\n",
      "100%|██████████| 3/3 [00:00<00:00, 42.85it/s]\n"
     ]
    },
    {
     "name": "stdout",
     "output_type": "stream",
     "text": [
      "Epoch 89\n",
      "train_loss : 0.00995828805025667, validation_loss(unnormalized): 1.6422028785279525\n",
      "[Epoch 90 / 200]\n"
     ]
    },
    {
     "name": "stderr",
     "output_type": "stream",
     "text": [
      "100%|██████████| 16/16 [00:00<00:00, 37.46it/s]\n",
      "100%|██████████| 3/3 [00:00<00:00, 26.09it/s]\n"
     ]
    },
    {
     "name": "stdout",
     "output_type": "stream",
     "text": [
      "Epoch 90\n",
      "train_loss : 0.009932651417329907, validation_loss(unnormalized): 1.6674136885301463\n",
      "[Epoch 91 / 200]\n"
     ]
    },
    {
     "name": "stderr",
     "output_type": "stream",
     "text": [
      "100%|██████████| 16/16 [00:00<00:00, 37.42it/s]\n",
      "100%|██████████| 3/3 [00:00<00:00, 43.20it/s]\n"
     ]
    },
    {
     "name": "stdout",
     "output_type": "stream",
     "text": [
      "Epoch 91\n",
      "train_loss : 0.009952755412086844, validation_loss(unnormalized): 1.644704734161343\n",
      "[Epoch 92 / 200]\n"
     ]
    },
    {
     "name": "stderr",
     "output_type": "stream",
     "text": [
      "100%|██████████| 16/16 [00:00<00:00, 37.30it/s]\n",
      "100%|██████████| 3/3 [00:00<00:00, 43.19it/s]\n"
     ]
    },
    {
     "name": "stdout",
     "output_type": "stream",
     "text": [
      "Epoch 92\n",
      "train_loss : 0.009950418199878186, validation_loss(unnormalized): 1.6637012683455872\n",
      "[Epoch 93 / 200]\n"
     ]
    },
    {
     "name": "stderr",
     "output_type": "stream",
     "text": [
      "100%|██████████| 16/16 [00:00<00:00, 37.44it/s]\n",
      "100%|██████████| 3/3 [00:00<00:00, 43.07it/s]\n"
     ]
    },
    {
     "name": "stdout",
     "output_type": "stream",
     "text": [
      "Epoch 93\n",
      "train_loss : 0.009941251890268177, validation_loss(unnormalized): 1.6483105794179114\n",
      "[Epoch 94 / 200]\n"
     ]
    },
    {
     "name": "stderr",
     "output_type": "stream",
     "text": [
      "100%|██████████| 16/16 [00:00<00:00, 37.37it/s]\n",
      "100%|██████████| 3/3 [00:00<00:00, 43.04it/s]\n"
     ]
    },
    {
     "name": "stdout",
     "output_type": "stream",
     "text": [
      "Epoch 94\n",
      "train_loss : 0.009951183455996215, validation_loss(unnormalized): 1.6649334073595856\n",
      "[Epoch 95 / 200]\n"
     ]
    },
    {
     "name": "stderr",
     "output_type": "stream",
     "text": [
      "100%|██████████| 16/16 [00:00<00:00, 37.47it/s]\n",
      "100%|██████████| 3/3 [00:00<00:00, 43.11it/s]\n"
     ]
    },
    {
     "name": "stdout",
     "output_type": "stream",
     "text": [
      "Epoch 95\n",
      "train_loss : 0.009936826128978282, validation_loss(unnormalized): 1.660537741317614\n",
      "[Epoch 96 / 200]\n"
     ]
    },
    {
     "name": "stderr",
     "output_type": "stream",
     "text": [
      "100%|██████████| 16/16 [00:00<00:00, 37.57it/s]\n",
      "100%|██████████| 3/3 [00:00<00:00, 42.93it/s]\n"
     ]
    },
    {
     "name": "stdout",
     "output_type": "stream",
     "text": [
      "Epoch 96\n",
      "train_loss : 0.00995616870932281, validation_loss(unnormalized): 1.6668497334325247\n",
      "[Epoch 97 / 200]\n"
     ]
    },
    {
     "name": "stderr",
     "output_type": "stream",
     "text": [
      "100%|██████████| 16/16 [00:00<00:00, 37.55it/s]\n",
      "100%|██████████| 3/3 [00:00<00:00, 26.97it/s]\n"
     ]
    },
    {
     "name": "stdout",
     "output_type": "stream",
     "text": [
      "Epoch 97\n",
      "train_loss : 0.009962117299437523, validation_loss(unnormalized): 1.6519971859746694\n",
      "[Epoch 98 / 200]\n"
     ]
    },
    {
     "name": "stderr",
     "output_type": "stream",
     "text": [
      "100%|██████████| 16/16 [00:00<00:00, 37.47it/s]\n",
      "100%|██████████| 3/3 [00:00<00:00, 43.23it/s]\n"
     ]
    },
    {
     "name": "stdout",
     "output_type": "stream",
     "text": [
      "Epoch 98\n",
      "train_loss : 0.009964983735699207, validation_loss(unnormalized): 1.6550779388376469\n",
      "[Epoch 99 / 200]\n"
     ]
    },
    {
     "name": "stderr",
     "output_type": "stream",
     "text": [
      "100%|██████████| 16/16 [00:00<00:00, 37.61it/s]\n",
      "100%|██████████| 3/3 [00:00<00:00, 43.08it/s]\n"
     ]
    },
    {
     "name": "stdout",
     "output_type": "stream",
     "text": [
      "Epoch 99\n",
      "train_loss : 0.009934686007909477, validation_loss(unnormalized): 1.6790276903502697\n",
      "[Epoch 100 / 200]\n"
     ]
    },
    {
     "name": "stderr",
     "output_type": "stream",
     "text": [
      "100%|██████████| 16/16 [00:00<00:00, 37.26it/s]\n",
      "100%|██████████| 3/3 [00:00<00:00, 41.18it/s]\n"
     ]
    },
    {
     "name": "stdout",
     "output_type": "stream",
     "text": [
      "Epoch 100\n",
      "train_loss : 0.009945629979483783, validation_loss(unnormalized): 1.6678317055660115\n",
      "[Epoch 101 / 200]\n"
     ]
    },
    {
     "name": "stderr",
     "output_type": "stream",
     "text": [
      "100%|██████████| 16/16 [00:00<00:00, 37.23it/s]\n",
      "100%|██████████| 3/3 [00:00<00:00, 42.85it/s]\n"
     ]
    },
    {
     "name": "stdout",
     "output_type": "stream",
     "text": [
      "Epoch 101\n",
      "train_loss : 0.009970516199246049, validation_loss(unnormalized): 1.661656345221398\n",
      "[Epoch 102 / 200]\n"
     ]
    },
    {
     "name": "stderr",
     "output_type": "stream",
     "text": [
      "100%|██████████| 16/16 [00:00<00:00, 37.58it/s]\n",
      "100%|██████████| 3/3 [00:00<00:00, 27.07it/s]\n"
     ]
    },
    {
     "name": "stdout",
     "output_type": "stream",
     "text": [
      "Epoch 102\n",
      "train_loss : 0.009978371614124626, validation_loss(unnormalized): 1.6687071575543868\n",
      "[Epoch 103 / 200]\n"
     ]
    },
    {
     "name": "stderr",
     "output_type": "stream",
     "text": [
      "100%|██████████| 16/16 [00:00<00:00, 37.62it/s]\n",
      "100%|██████████| 3/3 [00:00<00:00, 42.76it/s]\n"
     ]
    },
    {
     "name": "stdout",
     "output_type": "stream",
     "text": [
      "Epoch 103\n",
      "train_loss : 0.009956605441402644, validation_loss(unnormalized): 1.6736658906870818\n",
      "[Epoch 104 / 200]\n"
     ]
    },
    {
     "name": "stderr",
     "output_type": "stream",
     "text": [
      "100%|██████████| 16/16 [00:00<00:00, 37.45it/s]\n",
      "100%|██████████| 3/3 [00:00<00:00, 43.19it/s]\n"
     ]
    },
    {
     "name": "stdout",
     "output_type": "stream",
     "text": [
      "Epoch 104\n",
      "train_loss : 0.009953935688827187, validation_loss(unnormalized): 1.6415417948665014\n",
      "[Epoch 105 / 200]\n"
     ]
    },
    {
     "name": "stderr",
     "output_type": "stream",
     "text": [
      "100%|██████████| 16/16 [00:00<00:00, 37.43it/s]\n",
      "100%|██████████| 3/3 [00:00<00:00, 42.87it/s]\n"
     ]
    },
    {
     "name": "stdout",
     "output_type": "stream",
     "text": [
      "Epoch 105\n",
      "train_loss : 0.009934567846357822, validation_loss(unnormalized): 1.6523935669609158\n",
      "[Epoch 106 / 200]\n"
     ]
    },
    {
     "name": "stderr",
     "output_type": "stream",
     "text": [
      "100%|██████████| 16/16 [00:00<00:00, 37.60it/s]\n",
      "100%|██████████| 3/3 [00:00<00:00, 43.09it/s]\n"
     ]
    },
    {
     "name": "stdout",
     "output_type": "stream",
     "text": [
      "Epoch 106\n",
      "train_loss : 0.009925042046234012, validation_loss(unnormalized): 1.659861696324323\n",
      "[Epoch 107 / 200]\n"
     ]
    },
    {
     "name": "stderr",
     "output_type": "stream",
     "text": [
      "100%|██████████| 16/16 [00:00<00:00, 37.40it/s]\n",
      "100%|██████████| 3/3 [00:00<00:00, 43.57it/s]\n"
     ]
    },
    {
     "name": "stdout",
     "output_type": "stream",
     "text": [
      "Epoch 107\n",
      "train_loss : 0.00994832010474056, validation_loss(unnormalized): 1.6738143641783252\n",
      "[Epoch 108 / 200]\n"
     ]
    },
    {
     "name": "stderr",
     "output_type": "stream",
     "text": [
      "100%|██████████| 16/16 [00:00<00:00, 37.13it/s]\n",
      "100%|██████████| 3/3 [00:00<00:00, 43.12it/s]\n"
     ]
    },
    {
     "name": "stdout",
     "output_type": "stream",
     "text": [
      "Epoch 108\n",
      "train_loss : 0.00994687044294551, validation_loss(unnormalized): 1.6698741832387485\n",
      "[Epoch 109 / 200]\n"
     ]
    },
    {
     "name": "stderr",
     "output_type": "stream",
     "text": [
      "100%|██████████| 16/16 [00:00<00:00, 37.49it/s]\n",
      "100%|██████████| 3/3 [00:00<00:00, 26.91it/s]\n"
     ]
    },
    {
     "name": "stdout",
     "output_type": "stream",
     "text": [
      "Epoch 109\n",
      "train_loss : 0.009948352933861315, validation_loss(unnormalized): 1.6693814379932468\n",
      "[Epoch 110 / 200]\n"
     ]
    },
    {
     "name": "stderr",
     "output_type": "stream",
     "text": [
      "100%|██████████| 16/16 [00:00<00:00, 37.55it/s]\n",
      "100%|██████████| 3/3 [00:00<00:00, 43.40it/s]\n"
     ]
    },
    {
     "name": "stdout",
     "output_type": "stream",
     "text": [
      "Epoch 110\n",
      "train_loss : 0.009974600456189364, validation_loss(unnormalized): 1.6516717238565797\n",
      "[Epoch 111 / 200]\n"
     ]
    },
    {
     "name": "stderr",
     "output_type": "stream",
     "text": [
      "100%|██████████| 16/16 [00:00<00:00, 37.60it/s]\n",
      "100%|██████████| 3/3 [00:00<00:00, 43.49it/s]\n"
     ]
    },
    {
     "name": "stdout",
     "output_type": "stream",
     "text": [
      "Epoch 111\n",
      "train_loss : 0.009948182560037822, validation_loss(unnormalized): 1.6318457173752838\n",
      "validation loss decreased (1.631999 --> 1.631846).  Saving model ...\n",
      "[Epoch 112 / 200]\n"
     ]
    },
    {
     "name": "stderr",
     "output_type": "stream",
     "text": [
      "100%|██████████| 16/16 [00:00<00:00, 37.76it/s]\n",
      "100%|██████████| 3/3 [00:00<00:00, 43.13it/s]\n"
     ]
    },
    {
     "name": "stdout",
     "output_type": "stream",
     "text": [
      "Epoch 112\n",
      "train_loss : 0.009950644918717444, validation_loss(unnormalized): 1.6628163763639108\n",
      "[Epoch 113 / 200]\n"
     ]
    },
    {
     "name": "stderr",
     "output_type": "stream",
     "text": [
      "100%|██████████| 16/16 [00:00<00:00, 37.65it/s]\n",
      "100%|██████████| 3/3 [00:00<00:00, 43.30it/s]\n"
     ]
    },
    {
     "name": "stdout",
     "output_type": "stream",
     "text": [
      "Epoch 113\n",
      "train_loss : 0.00995581888128072, validation_loss(unnormalized): 1.6787201507599632\n",
      "[Epoch 114 / 200]\n"
     ]
    },
    {
     "name": "stderr",
     "output_type": "stream",
     "text": [
      "100%|██████████| 16/16 [00:00<00:00, 37.24it/s]\n",
      "100%|██████████| 3/3 [00:00<00:00, 42.90it/s]\n"
     ]
    },
    {
     "name": "stdout",
     "output_type": "stream",
     "text": [
      "Epoch 114\n",
      "train_loss : 0.009955345769412816, validation_loss(unnormalized): 1.6621301293886432\n",
      "[Epoch 115 / 200]\n"
     ]
    },
    {
     "name": "stderr",
     "output_type": "stream",
     "text": [
      "100%|██████████| 16/16 [00:00<00:00, 37.38it/s]\n",
      "100%|██████████| 3/3 [00:00<00:00, 43.17it/s]\n"
     ]
    },
    {
     "name": "stdout",
     "output_type": "stream",
     "text": [
      "Epoch 115\n",
      "train_loss : 0.009937195107340813, validation_loss(unnormalized): 1.673315081293086\n",
      "[Epoch 116 / 200]\n"
     ]
    },
    {
     "name": "stderr",
     "output_type": "stream",
     "text": [
      "100%|██████████| 16/16 [00:00<00:00, 37.40it/s]\n",
      "100%|██████████| 3/3 [00:00<00:00, 27.06it/s]\n"
     ]
    },
    {
     "name": "stdout",
     "output_type": "stream",
     "text": [
      "Epoch 116\n",
      "train_loss : 0.009931912180036306, validation_loss(unnormalized): 1.632101365295749\n",
      "[Epoch 117 / 200]\n"
     ]
    },
    {
     "name": "stderr",
     "output_type": "stream",
     "text": [
      "100%|██████████| 16/16 [00:00<00:00, 41.51it/s]\n",
      "100%|██████████| 3/3 [00:00<00:00, 42.98it/s]\n"
     ]
    },
    {
     "name": "stdout",
     "output_type": "stream",
     "text": [
      "Epoch 117\n",
      "train_loss : 0.009938173869159073, validation_loss(unnormalized): 1.6466255144975317\n",
      "[Epoch 118 / 200]\n"
     ]
    },
    {
     "name": "stderr",
     "output_type": "stream",
     "text": [
      "100%|██████████| 16/16 [00:00<00:00, 37.57it/s]\n",
      "100%|██████████| 3/3 [00:00<00:00, 26.55it/s]\n"
     ]
    },
    {
     "name": "stdout",
     "output_type": "stream",
     "text": [
      "Epoch 118\n",
      "train_loss : 0.009970414685085416, validation_loss(unnormalized): 1.659780133594011\n",
      "[Epoch 119 / 200]\n"
     ]
    },
    {
     "name": "stderr",
     "output_type": "stream",
     "text": [
      "100%|██████████| 16/16 [00:00<00:00, 41.53it/s]\n",
      "100%|██████████| 3/3 [00:00<00:00, 27.16it/s]\n"
     ]
    },
    {
     "name": "stdout",
     "output_type": "stream",
     "text": [
      "Epoch 119\n",
      "train_loss : 0.00993992603616789, validation_loss(unnormalized): 1.6360242857053742\n",
      "[Epoch 120 / 200]\n"
     ]
    },
    {
     "name": "stderr",
     "output_type": "stream",
     "text": [
      "100%|██████████| 16/16 [00:00<00:00, 41.20it/s]\n",
      "100%|██████████| 3/3 [00:00<00:00, 43.56it/s]\n"
     ]
    },
    {
     "name": "stdout",
     "output_type": "stream",
     "text": [
      "Epoch 120\n",
      "train_loss : 0.009942714066710323, validation_loss(unnormalized): 1.6729768338386874\n",
      "[Epoch 121 / 200]\n"
     ]
    },
    {
     "name": "stderr",
     "output_type": "stream",
     "text": [
      "100%|██████████| 16/16 [00:00<00:00, 37.49it/s]\n",
      "100%|██████████| 3/3 [00:00<00:00, 42.79it/s]\n"
     ]
    },
    {
     "name": "stdout",
     "output_type": "stream",
     "text": [
      "Epoch 121\n",
      "train_loss : 0.009936537593603134, validation_loss(unnormalized): 1.6464980081754546\n",
      "[Epoch 122 / 200]\n"
     ]
    },
    {
     "name": "stderr",
     "output_type": "stream",
     "text": [
      "100%|██████████| 16/16 [00:00<00:00, 37.41it/s]\n",
      "100%|██████████| 3/3 [00:00<00:00, 26.98it/s]\n"
     ]
    },
    {
     "name": "stdout",
     "output_type": "stream",
     "text": [
      "Epoch 122\n",
      "train_loss : 0.009979400085285306, validation_loss(unnormalized): 1.6649854737250784\n",
      "[Epoch 123 / 200]\n"
     ]
    },
    {
     "name": "stderr",
     "output_type": "stream",
     "text": [
      "100%|██████████| 16/16 [00:00<00:00, 37.42it/s]\n",
      "100%|██████████| 3/3 [00:00<00:00, 42.97it/s]\n"
     ]
    },
    {
     "name": "stdout",
     "output_type": "stream",
     "text": [
      "Epoch 123\n",
      "train_loss : 0.009929345629643649, validation_loss(unnormalized): 1.6807625112141622\n",
      "[Epoch 124 / 200]\n"
     ]
    },
    {
     "name": "stderr",
     "output_type": "stream",
     "text": [
      "100%|██████████| 16/16 [00:00<00:00, 37.44it/s]\n",
      "100%|██████████| 3/3 [00:00<00:00, 43.61it/s]\n"
     ]
    },
    {
     "name": "stdout",
     "output_type": "stream",
     "text": [
      "Epoch 124\n",
      "train_loss : 0.009947320679202676, validation_loss(unnormalized): 1.6598252419892858\n",
      "[Epoch 125 / 200]\n"
     ]
    },
    {
     "name": "stderr",
     "output_type": "stream",
     "text": [
      "100%|██████████| 16/16 [00:00<00:00, 37.31it/s]\n",
      "100%|██████████| 3/3 [00:00<00:00, 42.02it/s]\n"
     ]
    },
    {
     "name": "stdout",
     "output_type": "stream",
     "text": [
      "Epoch 125\n",
      "train_loss : 0.00995725009124726, validation_loss(unnormalized): 1.6618991273903827\n",
      "[Epoch 126 / 200]\n"
     ]
    },
    {
     "name": "stderr",
     "output_type": "stream",
     "text": [
      "100%|██████████| 16/16 [00:00<00:00, 37.51it/s]\n",
      "100%|██████████| 3/3 [00:00<00:00, 42.94it/s]\n"
     ]
    },
    {
     "name": "stdout",
     "output_type": "stream",
     "text": [
      "Epoch 126\n",
      "train_loss : 0.009949206374585629, validation_loss(unnormalized): 1.6556033003224488\n",
      "[Epoch 127 / 200]\n"
     ]
    },
    {
     "name": "stderr",
     "output_type": "stream",
     "text": [
      "100%|██████████| 16/16 [00:00<00:00, 37.48it/s]\n",
      "100%|██████████| 3/3 [00:00<00:00, 26.85it/s]\n"
     ]
    },
    {
     "name": "stdout",
     "output_type": "stream",
     "text": [
      "Epoch 127\n",
      "train_loss : 0.00995549967046827, validation_loss(unnormalized): 1.6612226583832406\n",
      "[Epoch 128 / 200]\n"
     ]
    },
    {
     "name": "stderr",
     "output_type": "stream",
     "text": [
      "100%|██████████| 16/16 [00:00<00:00, 37.53it/s]\n",
      "100%|██████████| 3/3 [00:00<00:00, 42.77it/s]\n"
     ]
    },
    {
     "name": "stdout",
     "output_type": "stream",
     "text": [
      "Epoch 128\n",
      "train_loss : 0.009983269206713885, validation_loss(unnormalized): 1.6601241290585744\n",
      "[Epoch 129 / 200]\n"
     ]
    },
    {
     "name": "stderr",
     "output_type": "stream",
     "text": [
      "100%|██████████| 16/16 [00:00<00:00, 37.45it/s]\n",
      "100%|██████████| 3/3 [00:00<00:00, 42.83it/s]\n"
     ]
    },
    {
     "name": "stdout",
     "output_type": "stream",
     "text": [
      "Epoch 129\n",
      "train_loss : 0.00994711258681491, validation_loss(unnormalized): 1.6557656393526134\n",
      "[Epoch 130 / 200]\n"
     ]
    },
    {
     "name": "stderr",
     "output_type": "stream",
     "text": [
      "100%|██████████| 16/16 [00:00<00:00, 37.65it/s]\n",
      "100%|██████████| 3/3 [00:00<00:00, 43.04it/s]\n"
     ]
    },
    {
     "name": "stdout",
     "output_type": "stream",
     "text": [
      "Epoch 130\n",
      "train_loss : 0.00992279953788966, validation_loss(unnormalized): 1.651421377490805\n",
      "[Epoch 131 / 200]\n"
     ]
    },
    {
     "name": "stderr",
     "output_type": "stream",
     "text": [
      "100%|██████████| 16/16 [00:00<00:00, 37.48it/s]\n",
      "100%|██████████| 3/3 [00:00<00:00, 42.91it/s]\n"
     ]
    },
    {
     "name": "stdout",
     "output_type": "stream",
     "text": [
      "Epoch 131\n",
      "train_loss : 0.00997547444421798, validation_loss(unnormalized): 1.6602210889946558\n",
      "[Epoch 132 / 200]\n"
     ]
    },
    {
     "name": "stderr",
     "output_type": "stream",
     "text": [
      "100%|██████████| 16/16 [00:00<00:00, 37.45it/s]\n",
      "100%|██████████| 3/3 [00:00<00:00, 42.99it/s]\n"
     ]
    },
    {
     "name": "stdout",
     "output_type": "stream",
     "text": [
      "Epoch 132\n",
      "train_loss : 0.009964419179596007, validation_loss(unnormalized): 1.6459127585416795\n",
      "[Epoch 133 / 200]\n"
     ]
    },
    {
     "name": "stderr",
     "output_type": "stream",
     "text": [
      "100%|██████████| 16/16 [00:00<00:00, 37.56it/s]\n",
      "100%|██████████| 3/3 [00:00<00:00, 42.40it/s]\n"
     ]
    },
    {
     "name": "stdout",
     "output_type": "stream",
     "text": [
      "Epoch 133\n",
      "train_loss : 0.009951828513294458, validation_loss(unnormalized): 1.6499999161031156\n",
      "[Epoch 134 / 200]\n"
     ]
    },
    {
     "name": "stderr",
     "output_type": "stream",
     "text": [
      "100%|██████████| 16/16 [00:00<00:00, 37.65it/s]\n",
      "100%|██████████| 3/3 [00:00<00:00, 27.02it/s]\n"
     ]
    },
    {
     "name": "stdout",
     "output_type": "stream",
     "text": [
      "Epoch 134\n",
      "train_loss : 0.009932464163284749, validation_loss(unnormalized): 1.6608216629136232\n",
      "[Epoch 135 / 200]\n"
     ]
    },
    {
     "name": "stderr",
     "output_type": "stream",
     "text": [
      "100%|██████████| 16/16 [00:00<00:00, 37.33it/s]\n",
      "100%|██████████| 3/3 [00:00<00:00, 43.34it/s]\n"
     ]
    },
    {
     "name": "stdout",
     "output_type": "stream",
     "text": [
      "Epoch 135\n",
      "train_loss : 0.00994801108026877, validation_loss(unnormalized): 1.6608321769362628\n",
      "[Epoch 136 / 200]\n"
     ]
    },
    {
     "name": "stderr",
     "output_type": "stream",
     "text": [
      "100%|██████████| 16/16 [00:00<00:00, 37.33it/s]\n",
      "100%|██████████| 3/3 [00:00<00:00, 42.79it/s]\n"
     ]
    },
    {
     "name": "stdout",
     "output_type": "stream",
     "text": [
      "Epoch 136\n",
      "train_loss : 0.00995450367918238, validation_loss(unnormalized): 1.650172254025054\n",
      "[Epoch 137 / 200]\n"
     ]
    },
    {
     "name": "stderr",
     "output_type": "stream",
     "text": [
      "100%|██████████| 16/16 [00:00<00:00, 37.51it/s]\n",
      "100%|██████████| 3/3 [00:00<00:00, 42.24it/s]\n"
     ]
    },
    {
     "name": "stdout",
     "output_type": "stream",
     "text": [
      "Epoch 137\n",
      "train_loss : 0.00993799086427316, validation_loss(unnormalized): 1.6756435524128779\n",
      "[Epoch 138 / 200]\n"
     ]
    },
    {
     "name": "stderr",
     "output_type": "stream",
     "text": [
      "100%|██████████| 16/16 [00:00<00:00, 37.57it/s]\n",
      "100%|██████████| 3/3 [00:00<00:00, 43.01it/s]\n"
     ]
    },
    {
     "name": "stdout",
     "output_type": "stream",
     "text": [
      "Epoch 138\n",
      "train_loss : 0.009949950559530407, validation_loss(unnormalized): 1.6586880107804076\n",
      "[Epoch 139 / 200]\n"
     ]
    },
    {
     "name": "stderr",
     "output_type": "stream",
     "text": [
      "100%|██████████| 16/16 [00:00<00:00, 37.60it/s]\n",
      "100%|██████████| 3/3 [00:00<00:00, 27.05it/s]\n"
     ]
    },
    {
     "name": "stdout",
     "output_type": "stream",
     "text": [
      "Epoch 139\n",
      "train_loss : 0.0099605469731614, validation_loss(unnormalized): 1.6655095401455906\n",
      "[Epoch 140 / 200]\n"
     ]
    },
    {
     "name": "stderr",
     "output_type": "stream",
     "text": [
      "100%|██████████| 16/16 [00:00<00:00, 37.48it/s]\n",
      "100%|██████████| 3/3 [00:00<00:00, 42.82it/s]\n"
     ]
    },
    {
     "name": "stdout",
     "output_type": "stream",
     "text": [
      "Epoch 140\n",
      "train_loss : 0.00996015954297036, validation_loss(unnormalized): 1.6475685398459439\n",
      "[Epoch 141 / 200]\n"
     ]
    },
    {
     "name": "stderr",
     "output_type": "stream",
     "text": [
      "100%|██████████| 16/16 [00:00<00:00, 37.56it/s]\n",
      "100%|██████████| 3/3 [00:00<00:00, 42.52it/s]\n"
     ]
    },
    {
     "name": "stdout",
     "output_type": "stream",
     "text": [
      "Epoch 141\n",
      "train_loss : 0.009949871979188174, validation_loss(unnormalized): 1.6336205585106949\n",
      "[Epoch 142 / 200]\n"
     ]
    },
    {
     "name": "stderr",
     "output_type": "stream",
     "text": [
      "100%|██████████| 16/16 [00:00<00:00, 37.51it/s]\n",
      "100%|██████████| 3/3 [00:00<00:00, 43.23it/s]\n"
     ]
    },
    {
     "name": "stdout",
     "output_type": "stream",
     "text": [
      "Epoch 142\n",
      "train_loss : 0.009947566140908748, validation_loss(unnormalized): 1.6772315785006644\n",
      "[Epoch 143 / 200]\n"
     ]
    },
    {
     "name": "stderr",
     "output_type": "stream",
     "text": [
      "100%|██████████| 16/16 [00:00<00:00, 37.56it/s]\n",
      "100%|██████████| 3/3 [00:00<00:00, 42.93it/s]\n"
     ]
    },
    {
     "name": "stdout",
     "output_type": "stream",
     "text": [
      "Epoch 143\n",
      "train_loss : 0.009948335704393685, validation_loss(unnormalized): 1.6894618042657548\n",
      "[Epoch 144 / 200]\n"
     ]
    },
    {
     "name": "stderr",
     "output_type": "stream",
     "text": [
      "100%|██████████| 16/16 [00:00<00:00, 37.32it/s]\n",
      "100%|██████████| 3/3 [00:00<00:00, 43.40it/s]\n"
     ]
    },
    {
     "name": "stdout",
     "output_type": "stream",
     "text": [
      "Epoch 144\n",
      "train_loss : 0.009946051985025406, validation_loss(unnormalized): 1.6703426826734435\n",
      "[Epoch 145 / 200]\n"
     ]
    },
    {
     "name": "stderr",
     "output_type": "stream",
     "text": [
      "100%|██████████| 16/16 [00:00<00:00, 37.43it/s]\n",
      "100%|██████████| 3/3 [00:00<00:00, 42.81it/s]\n"
     ]
    },
    {
     "name": "stdout",
     "output_type": "stream",
     "text": [
      "Epoch 145\n",
      "train_loss : 0.009941827098373324, validation_loss(unnormalized): 1.6394351636337567\n",
      "[Epoch 146 / 200]\n"
     ]
    },
    {
     "name": "stderr",
     "output_type": "stream",
     "text": [
      "100%|██████████| 16/16 [00:00<00:00, 37.64it/s]\n",
      "100%|██████████| 3/3 [00:00<00:00, 26.89it/s]\n"
     ]
    },
    {
     "name": "stdout",
     "output_type": "stream",
     "text": [
      "Epoch 146\n",
      "train_loss : 0.00996512669371441, validation_loss(unnormalized): 1.6687464526462144\n",
      "[Epoch 147 / 200]\n"
     ]
    },
    {
     "name": "stderr",
     "output_type": "stream",
     "text": [
      "100%|██████████| 16/16 [00:00<00:00, 37.52it/s]\n",
      "100%|██████████| 3/3 [00:00<00:00, 43.09it/s]\n"
     ]
    },
    {
     "name": "stdout",
     "output_type": "stream",
     "text": [
      "Epoch 147\n",
      "train_loss : 0.009933392924722284, validation_loss(unnormalized): 1.6700057408730427\n",
      "[Epoch 148 / 200]\n"
     ]
    },
    {
     "name": "stderr",
     "output_type": "stream",
     "text": [
      "100%|██████████| 16/16 [00:00<00:00, 37.45it/s]\n",
      "100%|██████████| 3/3 [00:00<00:00, 43.31it/s]\n"
     ]
    },
    {
     "name": "stdout",
     "output_type": "stream",
     "text": [
      "Epoch 148\n",
      "train_loss : 0.00995844294084236, validation_loss(unnormalized): 1.6467940528009102\n",
      "[Epoch 149 / 200]\n"
     ]
    },
    {
     "name": "stderr",
     "output_type": "stream",
     "text": [
      "100%|██████████| 16/16 [00:00<00:00, 37.47it/s]\n",
      "100%|██████████| 3/3 [00:00<00:00, 42.76it/s]\n"
     ]
    },
    {
     "name": "stdout",
     "output_type": "stream",
     "text": [
      "Epoch 149\n",
      "train_loss : 0.009956222085747868, validation_loss(unnormalized): 1.6512372921430494\n",
      "[Epoch 150 / 200]\n"
     ]
    },
    {
     "name": "stderr",
     "output_type": "stream",
     "text": [
      "100%|██████████| 16/16 [00:00<00:00, 37.32it/s]\n",
      "100%|██████████| 3/3 [00:00<00:00, 42.97it/s]\n"
     ]
    },
    {
     "name": "stdout",
     "output_type": "stream",
     "text": [
      "Epoch 150\n",
      "train_loss : 0.009928324725478888, validation_loss(unnormalized): 1.6576407155789132\n",
      "[Epoch 151 / 200]\n"
     ]
    },
    {
     "name": "stderr",
     "output_type": "stream",
     "text": [
      "100%|██████████| 16/16 [00:00<00:00, 37.48it/s]\n",
      "100%|██████████| 3/3 [00:00<00:00, 27.15it/s]\n"
     ]
    },
    {
     "name": "stdout",
     "output_type": "stream",
     "text": [
      "Epoch 151\n",
      "train_loss : 0.009952583524864167, validation_loss(unnormalized): 1.6605530942074356\n",
      "[Epoch 152 / 200]\n"
     ]
    },
    {
     "name": "stderr",
     "output_type": "stream",
     "text": [
      "100%|██████████| 16/16 [00:00<00:00, 37.57it/s]\n",
      "100%|██████████| 3/3 [00:00<00:00, 43.08it/s]\n"
     ]
    },
    {
     "name": "stdout",
     "output_type": "stream",
     "text": [
      "Epoch 152\n",
      "train_loss : 0.009951753774657845, validation_loss(unnormalized): 1.6420399861837176\n",
      "[Epoch 153 / 200]\n"
     ]
    },
    {
     "name": "stderr",
     "output_type": "stream",
     "text": [
      "100%|██████████| 16/16 [00:00<00:00, 37.50it/s]\n",
      "100%|██████████| 3/3 [00:00<00:00, 42.71it/s]\n"
     ]
    },
    {
     "name": "stdout",
     "output_type": "stream",
     "text": [
      "Epoch 153\n",
      "train_loss : 0.009935489564668387, validation_loss(unnormalized): 1.6513743655726074\n",
      "[Epoch 154 / 200]\n"
     ]
    },
    {
     "name": "stderr",
     "output_type": "stream",
     "text": [
      "100%|██████████| 16/16 [00:00<00:00, 37.57it/s]\n",
      "100%|██████████| 3/3 [00:00<00:00, 43.07it/s]\n"
     ]
    },
    {
     "name": "stdout",
     "output_type": "stream",
     "text": [
      "Epoch 154\n",
      "train_loss : 0.009943364013452083, validation_loss(unnormalized): 1.643089071140911\n",
      "[Epoch 155 / 200]\n"
     ]
    },
    {
     "name": "stderr",
     "output_type": "stream",
     "text": [
      "100%|██████████| 16/16 [00:00<00:00, 37.62it/s]\n",
      "100%|██████████| 3/3 [00:00<00:00, 43.53it/s]\n"
     ]
    },
    {
     "name": "stdout",
     "output_type": "stream",
     "text": [
      "Epoch 155\n",
      "train_loss : 0.009975085500627756, validation_loss(unnormalized): 1.6509282925485262\n",
      "[Epoch 156 / 200]\n"
     ]
    },
    {
     "name": "stderr",
     "output_type": "stream",
     "text": [
      "100%|██████████| 16/16 [00:00<00:00, 37.46it/s]\n",
      "100%|██████████| 3/3 [00:00<00:00, 39.89it/s]\n"
     ]
    },
    {
     "name": "stdout",
     "output_type": "stream",
     "text": [
      "Epoch 156\n",
      "train_loss : 0.009954385401215404, validation_loss(unnormalized): 1.6757276784558603\n",
      "[Epoch 157 / 200]\n"
     ]
    },
    {
     "name": "stderr",
     "output_type": "stream",
     "text": [
      "100%|██████████| 16/16 [00:00<00:00, 37.58it/s]\n",
      "100%|██████████| 3/3 [00:00<00:00, 43.20it/s]\n"
     ]
    },
    {
     "name": "stdout",
     "output_type": "stream",
     "text": [
      "Epoch 157\n",
      "train_loss : 0.009975918801501393, validation_loss(unnormalized): 1.632236610602323\n",
      "[Epoch 158 / 200]\n"
     ]
    },
    {
     "name": "stderr",
     "output_type": "stream",
     "text": [
      "100%|██████████| 16/16 [00:00<00:00, 37.50it/s]\n",
      "100%|██████████| 3/3 [00:00<00:00, 26.84it/s]\n"
     ]
    },
    {
     "name": "stdout",
     "output_type": "stream",
     "text": [
      "Epoch 158\n",
      "train_loss : 0.009952368563972414, validation_loss(unnormalized): 1.6612970505661997\n",
      "[Epoch 159 / 200]\n"
     ]
    },
    {
     "name": "stderr",
     "output_type": "stream",
     "text": [
      "100%|██████████| 16/16 [00:00<00:00, 37.61it/s]\n",
      "100%|██████████| 3/3 [00:00<00:00, 43.31it/s]\n"
     ]
    },
    {
     "name": "stdout",
     "output_type": "stream",
     "text": [
      "Epoch 159\n",
      "train_loss : 0.00994334666756913, validation_loss(unnormalized): 1.6579208552071922\n",
      "[Epoch 160 / 200]\n"
     ]
    },
    {
     "name": "stderr",
     "output_type": "stream",
     "text": [
      "100%|██████████| 16/16 [00:00<00:00, 37.50it/s]\n",
      "100%|██████████| 3/3 [00:00<00:00, 43.05it/s]\n"
     ]
    },
    {
     "name": "stdout",
     "output_type": "stream",
     "text": [
      "Epoch 160\n",
      "train_loss : 0.00992741878144443, validation_loss(unnormalized): 1.6700995727365358\n",
      "[Epoch 161 / 200]\n"
     ]
    },
    {
     "name": "stderr",
     "output_type": "stream",
     "text": [
      "100%|██████████| 16/16 [00:00<00:00, 37.43it/s]\n",
      "100%|██████████| 3/3 [00:00<00:00, 43.01it/s]\n"
     ]
    },
    {
     "name": "stdout",
     "output_type": "stream",
     "text": [
      "Epoch 161\n",
      "train_loss : 0.009952037711627781, validation_loss(unnormalized): 1.6764226529267816\n",
      "[Epoch 162 / 200]\n"
     ]
    },
    {
     "name": "stderr",
     "output_type": "stream",
     "text": [
      "100%|██████████| 16/16 [00:00<00:00, 37.58it/s]\n",
      "100%|██████████| 3/3 [00:00<00:00, 42.79it/s]\n"
     ]
    },
    {
     "name": "stdout",
     "output_type": "stream",
     "text": [
      "Epoch 162\n",
      "train_loss : 0.009980086935684085, validation_loss(unnormalized): 1.649210022875654\n",
      "[Epoch 163 / 200]\n"
     ]
    },
    {
     "name": "stderr",
     "output_type": "stream",
     "text": [
      "100%|██████████| 16/16 [00:00<00:00, 37.60it/s]\n",
      "100%|██████████| 3/3 [00:00<00:00, 27.00it/s]\n"
     ]
    },
    {
     "name": "stdout",
     "output_type": "stream",
     "text": [
      "Epoch 163\n",
      "train_loss : 0.009946954087354243, validation_loss(unnormalized): 1.6831813361980792\n",
      "[Epoch 164 / 200]\n"
     ]
    },
    {
     "name": "stderr",
     "output_type": "stream",
     "text": [
      "100%|██████████| 16/16 [00:00<00:00, 37.21it/s]\n",
      "100%|██████████| 3/3 [00:00<00:00, 43.02it/s]\n"
     ]
    },
    {
     "name": "stdout",
     "output_type": "stream",
     "text": [
      "Epoch 164\n",
      "train_loss : 0.009938147326465696, validation_loss(unnormalized): 1.6497110543922304\n",
      "[Epoch 165 / 200]\n"
     ]
    },
    {
     "name": "stderr",
     "output_type": "stream",
     "text": [
      "100%|██████████| 16/16 [00:00<00:00, 37.55it/s]\n",
      "100%|██████████| 3/3 [00:00<00:00, 43.78it/s]\n"
     ]
    },
    {
     "name": "stdout",
     "output_type": "stream",
     "text": [
      "Epoch 165\n",
      "train_loss : 0.009940569987520576, validation_loss(unnormalized): 1.6655880634305316\n",
      "[Epoch 166 / 200]\n"
     ]
    },
    {
     "name": "stderr",
     "output_type": "stream",
     "text": [
      "100%|██████████| 16/16 [00:00<00:00, 37.25it/s]\n",
      "100%|██████████| 3/3 [00:00<00:00, 43.05it/s]\n"
     ]
    },
    {
     "name": "stdout",
     "output_type": "stream",
     "text": [
      "Epoch 166\n",
      "train_loss : 0.009941760101355612, validation_loss(unnormalized): 1.6425820921386378\n",
      "[Epoch 167 / 200]\n"
     ]
    },
    {
     "name": "stderr",
     "output_type": "stream",
     "text": [
      "100%|██████████| 16/16 [00:00<00:00, 37.60it/s]\n",
      "100%|██████████| 3/3 [00:00<00:00, 43.08it/s]\n"
     ]
    },
    {
     "name": "stdout",
     "output_type": "stream",
     "text": [
      "Epoch 167\n",
      "train_loss : 0.009974708082154393, validation_loss(unnormalized): 1.6531808073424772\n",
      "[Epoch 168 / 200]\n"
     ]
    },
    {
     "name": "stderr",
     "output_type": "stream",
     "text": [
      "100%|██████████| 16/16 [00:00<00:00, 37.56it/s]\n",
      "100%|██████████| 3/3 [00:00<00:00, 43.36it/s]\n"
     ]
    },
    {
     "name": "stdout",
     "output_type": "stream",
     "text": [
      "Epoch 168\n",
      "train_loss : 0.009952133579645306, validation_loss(unnormalized): 1.6603388879674963\n",
      "[Epoch 169 / 200]\n"
     ]
    },
    {
     "name": "stderr",
     "output_type": "stream",
     "text": [
      "100%|██████████| 16/16 [00:00<00:00, 37.44it/s]\n",
      "100%|██████████| 3/3 [00:00<00:00, 43.28it/s]\n"
     ]
    },
    {
     "name": "stdout",
     "output_type": "stream",
     "text": [
      "Epoch 169\n",
      "train_loss : 0.009963812364730984, validation_loss(unnormalized): 1.6633886297411056\n",
      "[Epoch 170 / 200]\n"
     ]
    },
    {
     "name": "stderr",
     "output_type": "stream",
     "text": [
      "100%|██████████| 16/16 [00:00<00:00, 37.55it/s]\n",
      "100%|██████████| 3/3 [00:00<00:00, 26.70it/s]\n"
     ]
    },
    {
     "name": "stdout",
     "output_type": "stream",
     "text": [
      "Epoch 170\n",
      "train_loss : 0.009927604987751693, validation_loss(unnormalized): 1.691250464519318\n",
      "[Epoch 171 / 200]\n"
     ]
    },
    {
     "name": "stderr",
     "output_type": "stream",
     "text": [
      "100%|██████████| 16/16 [00:00<00:00, 37.57it/s]\n",
      "100%|██████████| 3/3 [00:00<00:00, 43.11it/s]\n"
     ]
    },
    {
     "name": "stdout",
     "output_type": "stream",
     "text": [
      "Epoch 171\n",
      "train_loss : 0.009927784441970289, validation_loss(unnormalized): 1.6590395825620448\n",
      "[Epoch 172 / 200]\n"
     ]
    },
    {
     "name": "stderr",
     "output_type": "stream",
     "text": [
      "100%|██████████| 16/16 [00:00<00:00, 37.38it/s]\n",
      "100%|██████████| 3/3 [00:00<00:00, 43.40it/s]\n"
     ]
    },
    {
     "name": "stdout",
     "output_type": "stream",
     "text": [
      "Epoch 172\n",
      "train_loss : 0.009942102013155818, validation_loss(unnormalized): 1.6574264613433385\n",
      "[Epoch 173 / 200]\n"
     ]
    },
    {
     "name": "stderr",
     "output_type": "stream",
     "text": [
      "100%|██████████| 16/16 [00:00<00:00, 37.42it/s]\n",
      "100%|██████████| 3/3 [00:00<00:00, 42.69it/s]\n"
     ]
    },
    {
     "name": "stdout",
     "output_type": "stream",
     "text": [
      "Epoch 173\n",
      "train_loss : 0.009965714067220688, validation_loss(unnormalized): 1.6511570948673384\n",
      "[Epoch 174 / 200]\n"
     ]
    },
    {
     "name": "stderr",
     "output_type": "stream",
     "text": [
      "100%|██████████| 16/16 [00:00<00:00, 37.67it/s]\n",
      "100%|██████████| 3/3 [00:00<00:00, 42.87it/s]\n"
     ]
    },
    {
     "name": "stdout",
     "output_type": "stream",
     "text": [
      "Epoch 174\n",
      "train_loss : 0.009951161860954016, validation_loss(unnormalized): 1.6690738173899016\n",
      "[Epoch 175 / 200]\n"
     ]
    },
    {
     "name": "stderr",
     "output_type": "stream",
     "text": [
      "100%|██████████| 16/16 [00:00<00:00, 37.73it/s]\n",
      "100%|██████████| 3/3 [00:00<00:00, 27.08it/s]\n"
     ]
    },
    {
     "name": "stdout",
     "output_type": "stream",
     "text": [
      "Epoch 175\n",
      "train_loss : 0.009936373331584036, validation_loss(unnormalized): 1.6631340588638144\n",
      "[Epoch 176 / 200]\n"
     ]
    },
    {
     "name": "stderr",
     "output_type": "stream",
     "text": [
      "100%|██████████| 16/16 [00:00<00:00, 37.65it/s]\n",
      "100%|██████████| 3/3 [00:00<00:00, 43.37it/s]\n"
     ]
    },
    {
     "name": "stdout",
     "output_type": "stream",
     "text": [
      "Epoch 176\n",
      "train_loss : 0.0099475885508582, validation_loss(unnormalized): 1.6491119808373338\n",
      "[Epoch 177 / 200]\n"
     ]
    },
    {
     "name": "stderr",
     "output_type": "stream",
     "text": [
      "100%|██████████| 16/16 [00:00<00:00, 37.45it/s]\n",
      "100%|██████████| 3/3 [00:00<00:00, 42.99it/s]\n"
     ]
    },
    {
     "name": "stdout",
     "output_type": "stream",
     "text": [
      "Epoch 177\n",
      "train_loss : 0.009931453503668308, validation_loss(unnormalized): 1.6556196029307306\n",
      "[Epoch 178 / 200]\n"
     ]
    },
    {
     "name": "stderr",
     "output_type": "stream",
     "text": [
      "100%|██████████| 16/16 [00:00<00:00, 37.57it/s]\n",
      "100%|██████████| 3/3 [00:00<00:00, 43.30it/s]\n"
     ]
    },
    {
     "name": "stdout",
     "output_type": "stream",
     "text": [
      "Epoch 178\n",
      "train_loss : 0.009931681677699089, validation_loss(unnormalized): 1.6614026585585513\n",
      "[Epoch 179 / 200]\n"
     ]
    },
    {
     "name": "stderr",
     "output_type": "stream",
     "text": [
      "100%|██████████| 16/16 [00:00<00:00, 37.32it/s]\n",
      "100%|██████████| 3/3 [00:00<00:00, 43.08it/s]\n"
     ]
    },
    {
     "name": "stdout",
     "output_type": "stream",
     "text": [
      "Epoch 179\n",
      "train_loss : 0.00993987632682547, validation_loss(unnormalized): 1.6742520344894942\n",
      "[Epoch 180 / 200]\n"
     ]
    },
    {
     "name": "stderr",
     "output_type": "stream",
     "text": [
      "100%|██████████| 16/16 [00:00<00:00, 37.49it/s]\n",
      "100%|██████████| 3/3 [00:00<00:00, 43.14it/s]\n"
     ]
    },
    {
     "name": "stdout",
     "output_type": "stream",
     "text": [
      "Epoch 180\n",
      "train_loss : 0.00995238748146221, validation_loss(unnormalized): 1.6684950028004482\n",
      "[Epoch 181 / 200]\n"
     ]
    },
    {
     "name": "stderr",
     "output_type": "stream",
     "text": [
      "100%|██████████| 16/16 [00:00<00:00, 37.62it/s]\n",
      "100%|██████████| 3/3 [00:00<00:00, 43.28it/s]\n"
     ]
    },
    {
     "name": "stdout",
     "output_type": "stream",
     "text": [
      "Epoch 181\n",
      "train_loss : 0.009945099416654557, validation_loss(unnormalized): 1.6730384629333284\n",
      "[Epoch 182 / 200]\n"
     ]
    },
    {
     "name": "stderr",
     "output_type": "stream",
     "text": [
      "100%|██████████| 16/16 [00:00<00:00, 37.49it/s]\n",
      "100%|██████████| 3/3 [00:00<00:00, 26.75it/s]\n"
     ]
    },
    {
     "name": "stdout",
     "output_type": "stream",
     "text": [
      "Epoch 182\n",
      "train_loss : 0.009944346151314676, validation_loss(unnormalized): 1.6618425852256025\n",
      "[Epoch 183 / 200]\n"
     ]
    },
    {
     "name": "stderr",
     "output_type": "stream",
     "text": [
      "100%|██████████| 16/16 [00:00<00:00, 37.66it/s]\n",
      "100%|██████████| 3/3 [00:00<00:00, 43.69it/s]\n"
     ]
    },
    {
     "name": "stdout",
     "output_type": "stream",
     "text": [
      "Epoch 183\n",
      "train_loss : 0.009971550782211125, validation_loss(unnormalized): 1.6691034753277483\n",
      "[Epoch 184 / 200]\n"
     ]
    },
    {
     "name": "stderr",
     "output_type": "stream",
     "text": [
      "100%|██████████| 16/16 [00:00<00:00, 37.26it/s]\n",
      "100%|██████████| 3/3 [00:00<00:00, 43.13it/s]\n"
     ]
    },
    {
     "name": "stdout",
     "output_type": "stream",
     "text": [
      "Epoch 184\n",
      "train_loss : 0.009973203937988728, validation_loss(unnormalized): 1.6767990002798705\n",
      "[Epoch 185 / 200]\n"
     ]
    },
    {
     "name": "stderr",
     "output_type": "stream",
     "text": [
      "100%|██████████| 16/16 [00:00<00:00, 37.35it/s]\n",
      "100%|██████████| 3/3 [00:00<00:00, 42.87it/s]\n"
     ]
    },
    {
     "name": "stdout",
     "output_type": "stream",
     "text": [
      "Epoch 185\n",
      "train_loss : 0.009947973245289177, validation_loss(unnormalized): 1.657283923069575\n",
      "[Epoch 186 / 200]\n"
     ]
    },
    {
     "name": "stderr",
     "output_type": "stream",
     "text": [
      "100%|██████████| 16/16 [00:00<00:00, 37.41it/s]\n",
      "100%|██████████| 3/3 [00:00<00:00, 42.69it/s]\n"
     ]
    },
    {
     "name": "stdout",
     "output_type": "stream",
     "text": [
      "Epoch 186\n",
      "train_loss : 0.009929128922522068, validation_loss(unnormalized): 1.6832278894685366\n",
      "[Epoch 187 / 200]\n"
     ]
    },
    {
     "name": "stderr",
     "output_type": "stream",
     "text": [
      "100%|██████████| 16/16 [00:00<00:00, 37.51it/s]\n",
      "100%|██████████| 3/3 [00:00<00:00, 26.80it/s]\n"
     ]
    },
    {
     "name": "stdout",
     "output_type": "stream",
     "text": [
      "Epoch 187\n",
      "train_loss : 0.009917257877532393, validation_loss(unnormalized): 1.653653237204509\n",
      "[Epoch 188 / 200]\n"
     ]
    },
    {
     "name": "stderr",
     "output_type": "stream",
     "text": [
      "100%|██████████| 16/16 [00:00<00:00, 37.40it/s]\n",
      "100%|██████████| 3/3 [00:00<00:00, 42.55it/s]\n"
     ]
    },
    {
     "name": "stdout",
     "output_type": "stream",
     "text": [
      "Epoch 188\n",
      "train_loss : 0.009931361593771726, validation_loss(unnormalized): 1.660033136474806\n",
      "[Epoch 189 / 200]\n"
     ]
    },
    {
     "name": "stderr",
     "output_type": "stream",
     "text": [
      "100%|██████████| 16/16 [00:00<00:00, 37.74it/s]\n",
      "100%|██████████| 3/3 [00:00<00:00, 43.63it/s]\n"
     ]
    },
    {
     "name": "stdout",
     "output_type": "stream",
     "text": [
      "Epoch 189\n",
      "train_loss : 0.009957278787624091, validation_loss(unnormalized): 1.6484469566744921\n",
      "[Epoch 190 / 200]\n"
     ]
    },
    {
     "name": "stderr",
     "output_type": "stream",
     "text": [
      "100%|██████████| 16/16 [00:00<00:00, 37.38it/s]\n",
      "100%|██████████| 3/3 [00:00<00:00, 42.75it/s]\n"
     ]
    },
    {
     "name": "stdout",
     "output_type": "stream",
     "text": [
      "Epoch 190\n",
      "train_loss : 0.009936923161149025, validation_loss(unnormalized): 1.636110848774604\n",
      "[Epoch 191 / 200]\n"
     ]
    },
    {
     "name": "stderr",
     "output_type": "stream",
     "text": [
      "100%|██████████| 16/16 [00:00<00:00, 37.56it/s]\n",
      "100%|██████████| 3/3 [00:00<00:00, 42.62it/s]\n"
     ]
    },
    {
     "name": "stdout",
     "output_type": "stream",
     "text": [
      "Epoch 191\n",
      "train_loss : 0.009931543085258454, validation_loss(unnormalized): 1.6615229900642225\n",
      "[Epoch 192 / 200]\n"
     ]
    },
    {
     "name": "stderr",
     "output_type": "stream",
     "text": [
      "100%|██████████| 16/16 [00:00<00:00, 37.44it/s]\n",
      "100%|██████████| 3/3 [00:00<00:00, 43.44it/s]\n"
     ]
    },
    {
     "name": "stdout",
     "output_type": "stream",
     "text": [
      "Epoch 192\n",
      "train_loss : 0.009921458025928587, validation_loss(unnormalized): 1.642692205237805\n",
      "[Epoch 193 / 200]\n"
     ]
    },
    {
     "name": "stderr",
     "output_type": "stream",
     "text": [
      "100%|██████████| 16/16 [00:00<00:00, 37.68it/s]\n",
      "100%|██████████| 3/3 [00:00<00:00, 43.26it/s]\n"
     ]
    },
    {
     "name": "stdout",
     "output_type": "stream",
     "text": [
      "Epoch 193\n",
      "train_loss : 0.009947314043529332, validation_loss(unnormalized): 1.670525385724727\n",
      "[Epoch 194 / 200]\n"
     ]
    },
    {
     "name": "stderr",
     "output_type": "stream",
     "text": [
      "100%|██████████| 16/16 [00:00<00:00, 37.40it/s]\n",
      "100%|██████████| 3/3 [00:00<00:00, 26.76it/s]\n"
     ]
    },
    {
     "name": "stdout",
     "output_type": "stream",
     "text": [
      "Epoch 194\n",
      "train_loss : 0.009916583367157727, validation_loss(unnormalized): 1.662831711216965\n",
      "[Epoch 195 / 200]\n"
     ]
    },
    {
     "name": "stderr",
     "output_type": "stream",
     "text": [
      "100%|██████████| 16/16 [00:00<00:00, 37.56it/s]\n",
      "100%|██████████| 3/3 [00:00<00:00, 42.97it/s]\n"
     ]
    },
    {
     "name": "stdout",
     "output_type": "stream",
     "text": [
      "Epoch 195\n",
      "train_loss : 0.009939691692125052, validation_loss(unnormalized): 1.6469278117883375\n",
      "[Epoch 196 / 200]\n"
     ]
    },
    {
     "name": "stderr",
     "output_type": "stream",
     "text": [
      "100%|██████████| 16/16 [00:00<00:00, 37.17it/s]\n",
      "100%|██████████| 3/3 [00:00<00:00, 43.35it/s]\n"
     ]
    },
    {
     "name": "stdout",
     "output_type": "stream",
     "text": [
      "Epoch 196\n",
      "train_loss : 0.009934221568983048, validation_loss(unnormalized): 1.6936387005449924\n",
      "[Epoch 197 / 200]\n"
     ]
    },
    {
     "name": "stderr",
     "output_type": "stream",
     "text": [
      "100%|██████████| 16/16 [00:00<00:00, 37.34it/s]\n",
      "100%|██████████| 3/3 [00:00<00:00, 42.41it/s]\n"
     ]
    },
    {
     "name": "stdout",
     "output_type": "stream",
     "text": [
      "Epoch 197\n",
      "train_loss : 0.009944959892891347, validation_loss(unnormalized): 1.628401695832502\n",
      "validation loss decreased (1.631846 --> 1.628402).  Saving model ...\n",
      "[Epoch 198 / 200]\n"
     ]
    },
    {
     "name": "stderr",
     "output_type": "stream",
     "text": [
      "100%|██████████| 16/16 [00:00<00:00, 37.40it/s]\n",
      "100%|██████████| 3/3 [00:00<00:00, 43.42it/s]\n"
     ]
    },
    {
     "name": "stdout",
     "output_type": "stream",
     "text": [
      "Epoch 198\n",
      "train_loss : 0.009957423666492105, validation_loss(unnormalized): 1.6826921584098722\n",
      "[Epoch 199 / 200]\n"
     ]
    },
    {
     "name": "stderr",
     "output_type": "stream",
     "text": [
      "100%|██████████| 16/16 [00:00<00:00, 37.58it/s]\n",
      "100%|██████████| 3/3 [00:00<00:00, 27.36it/s]\n"
     ]
    },
    {
     "name": "stdout",
     "output_type": "stream",
     "text": [
      "Epoch 199\n",
      "train_loss : 0.009953669214155525, validation_loss(unnormalized): 1.6488663994432748\n",
      "[Epoch 200 / 200]\n"
     ]
    },
    {
     "name": "stderr",
     "output_type": "stream",
     "text": [
      "100%|██████████| 16/16 [00:00<00:00, 37.10it/s]\n",
      "100%|██████████| 3/3 [00:00<00:00, 42.91it/s]\n"
     ]
    },
    {
     "name": "stdout",
     "output_type": "stream",
     "text": [
      "Epoch 200\n",
      "train_loss : 0.009913203597534448, validation_loss(unnormalized): 1.6431908138613582\n",
      "./parameters/LDGLSTM_4.pt exists\n"
     ]
    },
    {
     "name": "stderr",
     "output_type": "stream",
     "text": [
      "100%|██████████| 14/14 [00:00<00:00, 93.44it/s]\n"
     ]
    }
   ],
   "source": [
    "#execute_train()\n",
    "execute_getresult()"
   ]
  },
  {
   "cell_type": "code",
   "execution_count": null,
   "metadata": {},
   "outputs": [],
   "source": []
  },
  {
   "cell_type": "code",
   "execution_count": null,
   "metadata": {},
   "outputs": [],
   "source": []
  }
 ],
 "metadata": {
  "kernelspec": {
   "display_name": "Python 3.8.12 ('base')",
   "language": "python",
   "name": "python3"
  },
  "language_info": {
   "codemirror_mode": {
    "name": "ipython",
    "version": 3
   },
   "file_extension": ".py",
   "mimetype": "text/x-python",
   "name": "python",
   "nbconvert_exporter": "python",
   "pygments_lexer": "ipython3",
   "version": "3.8.12"
  },
  "orig_nbformat": 4,
  "vscode": {
   "interpreter": {
    "hash": "d4d1e4263499bec80672ea0156c357c1ee493ec2b1c70f0acce89fc37c4a6abe"
   }
  }
 },
 "nbformat": 4,
 "nbformat_minor": 2
}
